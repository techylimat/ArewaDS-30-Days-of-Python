{
 "cells": [
  {
   "cell_type": "code",
   "execution_count": 399,
   "metadata": {},
   "outputs": [],
   "source": [
    "Age = 29"
   ]
  },
  {
   "cell_type": "code",
   "execution_count": 400,
   "metadata": {},
   "outputs": [],
   "source": [
    "Height = 5.5"
   ]
  },
  {
   "cell_type": "code",
   "execution_count": 401,
   "metadata": {},
   "outputs": [],
   "source": [
    "Compex_number = 38 - 6j"
   ]
  },
  {
   "cell_type": "code",
   "execution_count": 402,
   "metadata": {},
   "outputs": [
    {
     "name": "stdout",
     "output_type": "stream",
     "text": [
      "The of the triangle is   300.0\n"
     ]
    }
   ],
   "source": [
    "base = 20\n",
    "height = 10\n",
    "area = 0.5 * 20 * 30\n",
    "print('The of the triangle is  ', area)"
   ]
  },
  {
   "cell_type": "code",
   "execution_count": 403,
   "metadata": {},
   "outputs": [
    {
     "name": "stdout",
     "output_type": "stream",
     "text": [
      "The Perimeter of the triangle is   12\n"
     ]
    }
   ],
   "source": [
    "side_a = 5\n",
    "side_b = 4\n",
    "side_c = 3\n",
    "Perimeter = 5 + 4 + 3\n",
    "print('The Perimeter of the triangle is  ', Perimeter)"
   ]
  },
  {
   "cell_type": "code",
   "execution_count": 404,
   "metadata": {},
   "outputs": [
    {
     "name": "stdout",
     "output_type": "stream",
     "text": [
      "Area is 40\n",
      "Perimeter is  26\n"
     ]
    }
   ],
   "source": [
    "lenght = 5\n",
    "width = 8\n",
    "area = 5 * 8\n",
    "print('Area is', area )\n",
    "\n",
    "perimeter = 2 * (5 + 8)\n",
    "print('Perimeter is ', perimeter)"
   ]
  },
  {
   "cell_type": "code",
   "execution_count": 405,
   "metadata": {},
   "outputs": [
    {
     "name": "stdout",
     "output_type": "stream",
     "text": [
      "Area =  706.5\n",
      "Circumference =   94.2\n"
     ]
    }
   ],
   "source": [
    "r = 15\n",
    "pi = 3.14\n",
    "area = 3.14 * (15 ** 2)\n",
    "print('Area = ', area)\n",
    "\n",
    "\n",
    "circumference = 2 * 3.14 * 15\n",
    "print('Circumference =  ', circumference)\n"
   ]
  },
  {
   "cell_type": "code",
   "execution_count": 406,
   "metadata": {},
   "outputs": [],
   "source": [
    "#  x_intercept occurs when y=0:\n",
    "x = 2 / 2\n",
    "x = 1\n",
    "x_intercept = (1, 0)\n",
    "slope = 2\n",
    "\n",
    "# y_intercept occurs when x=0\n",
    "y = 2 * 0 - 2\n",
    "y = -2\n",
    "y_intercept = (0, -2)\n",
    "slope = 2\n"
   ]
  },
  {
   "cell_type": "code",
   "execution_count": 407,
   "metadata": {},
   "outputs": [
    {
     "name": "stdout",
     "output_type": "stream",
     "text": [
      "2\n",
      "40.0\n"
     ]
    }
   ],
   "source": [
    "m = 10 - 6 / 2 - 2\n",
    "print(slope)\n",
    "\n",
    "EU = (((2 - 6) ** 2) + ((2 - 10) **2)) * 1/2\n",
    "print(EU) "
   ]
  },
  {
   "cell_type": "code",
   "execution_count": 408,
   "metadata": {},
   "outputs": [
    {
     "name": "stdout",
     "output_type": "stream",
     "text": [
      "4\n"
     ]
    }
   ],
   "source": [
    "Change_in_slope = (4 - 0)\n",
    "print(Change_in_slope)"
   ]
  },
  {
   "cell_type": "code",
   "execution_count": 409,
   "metadata": {},
   "outputs": [],
   "source": [
    "\n",
    "# when x = 0\n",
    "y = 0 **2 + 6 * 0 + 0 + 0 \n",
    "y = 0\n",
    "\n"
   ]
  },
  {
   "cell_type": "code",
   "execution_count": 410,
   "metadata": {},
   "outputs": [
    {
     "name": "stdout",
     "output_type": "stream",
     "text": [
      "False\n"
     ]
    }
   ],
   "source": [
    "print(len('python') != len('dragon'))\n"
   ]
  },
  {
   "cell_type": "code",
   "execution_count": 411,
   "metadata": {},
   "outputs": [
    {
     "name": "stdout",
     "output_type": "stream",
     "text": [
      "on in dragon\n"
     ]
    }
   ],
   "source": [
    "print('on in pyhon'and 'on in dragon')"
   ]
  },
  {
   "cell_type": "code",
   "execution_count": 412,
   "metadata": {},
   "outputs": [
    {
     "name": "stdout",
     "output_type": "stream",
     "text": [
      "True\n"
     ]
    }
   ],
   "source": [
    "print('jargon' in 'i hope this course is not full of jargon')"
   ]
  },
  {
   "cell_type": "code",
   "execution_count": 413,
   "metadata": {},
   "outputs": [
    {
     "name": "stdout",
     "output_type": "stream",
     "text": [
      "True True\n"
     ]
    }
   ],
   "source": [
    "print('no' not in 'python', 'no' not in 'dragon')"
   ]
  },
  {
   "cell_type": "code",
   "execution_count": 414,
   "metadata": {},
   "outputs": [
    {
     "name": "stdout",
     "output_type": "stream",
     "text": [
      "6\n"
     ]
    },
    {
     "data": {
      "text/plain": [
       "'python'"
      ]
     },
     "execution_count": 414,
     "metadata": {},
     "output_type": "execute_result"
    }
   ],
   "source": [
    "print(len('python'))\n",
    "float(6)\n",
    "str('python')\n"
   ]
  },
  {
   "cell_type": "code",
   "execution_count": 415,
   "metadata": {},
   "outputs": [
    {
     "data": {
      "text/plain": [
       "False"
      ]
     },
     "execution_count": 415,
     "metadata": {},
     "output_type": "execute_result"
    }
   ],
   "source": [
    "\n",
    "7 // 3 == 2.7"
   ]
  },
  {
   "cell_type": "code",
   "execution_count": 416,
   "metadata": {},
   "outputs": [
    {
     "name": "stdout",
     "output_type": "stream",
     "text": [
      "False\n"
     ]
    }
   ],
   "source": [
    "print(type('10') == type(10))"
   ]
  },
  {
   "cell_type": "code",
   "execution_count": 417,
   "metadata": {},
   "outputs": [
    {
     "name": "stdout",
     "output_type": "stream",
     "text": [
      "False\n"
     ]
    }
   ],
   "source": [
    "print(('9.8') == 10)"
   ]
  },
  {
   "cell_type": "code",
   "execution_count": 418,
   "metadata": {},
   "outputs": [
    {
     "name": "stdout",
     "output_type": "stream",
     "text": [
      "12320\n"
     ]
    }
   ],
   "source": [
    "hours = 40\n",
    "rate_per_hour = 28\n",
    "weekly_earning = 11\n",
    "pay = 40 * 28 * 11\n",
    "print(pay)"
   ]
  },
  {
   "cell_type": "code",
   "execution_count": 419,
   "metadata": {},
   "outputs": [
    {
     "name": "stdout",
     "output_type": "stream",
     "text": [
      "883008000\n"
     ]
    }
   ],
   "source": [
    "age = 28\n",
    "number_of_years = 28 * 365 * 24 * 60 * 60\n",
    "print(number_of_years)\n"
   ]
  },
  {
   "cell_type": "code",
   "execution_count": 420,
   "metadata": {},
   "outputs": [
    {
     "name": "stdout",
     "output_type": "stream",
     "text": [
      "1 1 1 1 1\n",
      "2 1 2 4 8\n",
      "3 1 3 9 27\n",
      "4 1 4 16 64\n",
      "5 1 5 25 125\n"
     ]
    }
   ],
   "source": [
    "for i in range(1, 6):\n",
    "    print(i, 1, i, i**2, i**3)\n"
   ]
  }
 ],
 "metadata": {
  "kernelspec": {
   "display_name": "ArewaDSworkspace",
   "language": "python",
   "name": "python3"
  },
  "language_info": {
   "codemirror_mode": {
    "name": "ipython",
    "version": 3
   },
   "file_extension": ".py",
   "mimetype": "text/x-python",
   "name": "python",
   "nbconvert_exporter": "python",
   "pygments_lexer": "ipython3",
   "version": "3.8.18"
  }
 },
 "nbformat": 4,
 "nbformat_minor": 2
}
