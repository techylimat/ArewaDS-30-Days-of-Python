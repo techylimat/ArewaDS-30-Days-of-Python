{
 "cells": [
  {
   "cell_type": "markdown",
   "id": "be3405b8-163c-459a-ba3a-d95b60365f4b",
   "metadata": {},
   "source": [
    "## EXERCISES DAY 25 "
   ]
  },
  {
   "cell_type": "code",
   "execution_count": 23,
   "id": "a1c7d811-5e44-458f-8537-ac7fb110e539",
   "metadata": {
    "tags": []
   },
   "outputs": [
    {
     "data": {
      "text/html": [
       "<div>\n",
       "<style scoped>\n",
       "    .dataframe tbody tr th:only-of-type {\n",
       "        vertical-align: middle;\n",
       "    }\n",
       "\n",
       "    .dataframe tbody tr th {\n",
       "        vertical-align: top;\n",
       "    }\n",
       "\n",
       "    .dataframe thead th {\n",
       "        text-align: right;\n",
       "    }\n",
       "</style>\n",
       "<table border=\"1\" class=\"dataframe\">\n",
       "  <thead>\n",
       "    <tr style=\"text-align: right;\">\n",
       "      <th></th>\n",
       "      <th>id</th>\n",
       "      <th>title</th>\n",
       "      <th>url</th>\n",
       "      <th>num_points</th>\n",
       "      <th>num_comments</th>\n",
       "      <th>author</th>\n",
       "      <th>created_at</th>\n",
       "    </tr>\n",
       "  </thead>\n",
       "  <tbody>\n",
       "    <tr>\n",
       "      <th>0</th>\n",
       "      <td>12224879</td>\n",
       "      <td>Interactive Dynamic Video</td>\n",
       "      <td>http://www.interactivedynamicvideo.com/</td>\n",
       "      <td>386</td>\n",
       "      <td>52</td>\n",
       "      <td>ne0phyte</td>\n",
       "      <td>8/4/2016 11:52</td>\n",
       "    </tr>\n",
       "    <tr>\n",
       "      <th>1</th>\n",
       "      <td>11964716</td>\n",
       "      <td>Florida DJs May Face Felony for April Fools' W...</td>\n",
       "      <td>http://www.thewire.com/entertainment/2013/04/f...</td>\n",
       "      <td>2</td>\n",
       "      <td>1</td>\n",
       "      <td>vezycash</td>\n",
       "      <td>6/23/2016 22:20</td>\n",
       "    </tr>\n",
       "    <tr>\n",
       "      <th>2</th>\n",
       "      <td>11919867</td>\n",
       "      <td>Technology ventures: From Idea to Enterprise</td>\n",
       "      <td>https://www.amazon.com/Technology-Ventures-Ent...</td>\n",
       "      <td>3</td>\n",
       "      <td>1</td>\n",
       "      <td>hswarna</td>\n",
       "      <td>6/17/2016 0:01</td>\n",
       "    </tr>\n",
       "    <tr>\n",
       "      <th>3</th>\n",
       "      <td>10301696</td>\n",
       "      <td>Note by Note: The Making of Steinway L1037 (2007)</td>\n",
       "      <td>http://www.nytimes.com/2007/11/07/movies/07ste...</td>\n",
       "      <td>8</td>\n",
       "      <td>2</td>\n",
       "      <td>walterbell</td>\n",
       "      <td>9/30/2015 4:12</td>\n",
       "    </tr>\n",
       "    <tr>\n",
       "      <th>4</th>\n",
       "      <td>10482257</td>\n",
       "      <td>Title II kills investment? Comcast and other I...</td>\n",
       "      <td>http://arstechnica.com/business/2015/10/comcas...</td>\n",
       "      <td>53</td>\n",
       "      <td>22</td>\n",
       "      <td>Deinos</td>\n",
       "      <td>10/31/2015 9:48</td>\n",
       "    </tr>\n",
       "    <tr>\n",
       "      <th>...</th>\n",
       "      <td>...</td>\n",
       "      <td>...</td>\n",
       "      <td>...</td>\n",
       "      <td>...</td>\n",
       "      <td>...</td>\n",
       "      <td>...</td>\n",
       "      <td>...</td>\n",
       "    </tr>\n",
       "    <tr>\n",
       "      <th>20094</th>\n",
       "      <td>12379592</td>\n",
       "      <td>How Purism Avoids Intels Active Management Tec...</td>\n",
       "      <td>https://puri.sm/philosophy/how-purism-avoids-i...</td>\n",
       "      <td>10</td>\n",
       "      <td>6</td>\n",
       "      <td>AdmiralAsshat</td>\n",
       "      <td>8/29/2016 2:22</td>\n",
       "    </tr>\n",
       "    <tr>\n",
       "      <th>20095</th>\n",
       "      <td>10339284</td>\n",
       "      <td>YC Application Translated and Broken Down</td>\n",
       "      <td>https://medium.com/@zreitano/the-yc-applicatio...</td>\n",
       "      <td>4</td>\n",
       "      <td>1</td>\n",
       "      <td>zreitano</td>\n",
       "      <td>10/6/2015 14:57</td>\n",
       "    </tr>\n",
       "    <tr>\n",
       "      <th>20096</th>\n",
       "      <td>10824382</td>\n",
       "      <td>Microkernels are slow and Elvis didn't do no d...</td>\n",
       "      <td>http://blog.darknedgy.net/technology/2016/01/0...</td>\n",
       "      <td>169</td>\n",
       "      <td>132</td>\n",
       "      <td>vezzy-fnord</td>\n",
       "      <td>1/2/2016 0:49</td>\n",
       "    </tr>\n",
       "    <tr>\n",
       "      <th>20097</th>\n",
       "      <td>10739875</td>\n",
       "      <td>How Product Hunt really works</td>\n",
       "      <td>https://medium.com/@benjiwheeler/how-product-h...</td>\n",
       "      <td>695</td>\n",
       "      <td>222</td>\n",
       "      <td>brw12</td>\n",
       "      <td>12/15/2015 19:32</td>\n",
       "    </tr>\n",
       "    <tr>\n",
       "      <th>20098</th>\n",
       "      <td>11680777</td>\n",
       "      <td>RoboBrowser: Your friendly neighborhood web sc...</td>\n",
       "      <td>https://github.com/jmcarp/robobrowser</td>\n",
       "      <td>182</td>\n",
       "      <td>58</td>\n",
       "      <td>pmoriarty</td>\n",
       "      <td>5/12/2016 1:43</td>\n",
       "    </tr>\n",
       "  </tbody>\n",
       "</table>\n",
       "<p>20099 rows × 7 columns</p>\n",
       "</div>"
      ],
      "text/plain": [
       "             id                                              title  \\\n",
       "0      12224879                          Interactive Dynamic Video   \n",
       "1      11964716  Florida DJs May Face Felony for April Fools' W...   \n",
       "2      11919867       Technology ventures: From Idea to Enterprise   \n",
       "3      10301696  Note by Note: The Making of Steinway L1037 (2007)   \n",
       "4      10482257  Title II kills investment? Comcast and other I...   \n",
       "...         ...                                                ...   \n",
       "20094  12379592  How Purism Avoids Intels Active Management Tec...   \n",
       "20095  10339284          YC Application Translated and Broken Down   \n",
       "20096  10824382  Microkernels are slow and Elvis didn't do no d...   \n",
       "20097  10739875                      How Product Hunt really works   \n",
       "20098  11680777  RoboBrowser: Your friendly neighborhood web sc...   \n",
       "\n",
       "                                                     url  num_points  \\\n",
       "0                http://www.interactivedynamicvideo.com/         386   \n",
       "1      http://www.thewire.com/entertainment/2013/04/f...           2   \n",
       "2      https://www.amazon.com/Technology-Ventures-Ent...           3   \n",
       "3      http://www.nytimes.com/2007/11/07/movies/07ste...           8   \n",
       "4      http://arstechnica.com/business/2015/10/comcas...          53   \n",
       "...                                                  ...         ...   \n",
       "20094  https://puri.sm/philosophy/how-purism-avoids-i...          10   \n",
       "20095  https://medium.com/@zreitano/the-yc-applicatio...           4   \n",
       "20096  http://blog.darknedgy.net/technology/2016/01/0...         169   \n",
       "20097  https://medium.com/@benjiwheeler/how-product-h...         695   \n",
       "20098              https://github.com/jmcarp/robobrowser         182   \n",
       "\n",
       "       num_comments         author        created_at  \n",
       "0                52       ne0phyte    8/4/2016 11:52  \n",
       "1                 1       vezycash   6/23/2016 22:20  \n",
       "2                 1        hswarna    6/17/2016 0:01  \n",
       "3                 2     walterbell    9/30/2015 4:12  \n",
       "4                22         Deinos   10/31/2015 9:48  \n",
       "...             ...            ...               ...  \n",
       "20094             6  AdmiralAsshat    8/29/2016 2:22  \n",
       "20095             1       zreitano   10/6/2015 14:57  \n",
       "20096           132    vezzy-fnord     1/2/2016 0:49  \n",
       "20097           222          brw12  12/15/2015 19:32  \n",
       "20098            58      pmoriarty    5/12/2016 1:43  \n",
       "\n",
       "[20099 rows x 7 columns]"
      ]
     },
     "execution_count": 23,
     "metadata": {},
     "output_type": "execute_result"
    }
   ],
   "source": [
    "#1 Reading the csv files\n",
    "import pandas as pd\n",
    "df = pd.read_csv(\"C:\\\\Users\\\\user\\\\Downloads\\\\hacker_news.csv\"  \n",
    ")\n",
    "df"
   ]
  },
  {
   "cell_type": "code",
   "execution_count": 24,
   "id": "0fc4c013-f9e5-4b46-897d-1cc3463363ca",
   "metadata": {
    "tags": []
   },
   "outputs": [
    {
     "data": {
      "text/html": [
       "<div>\n",
       "<style scoped>\n",
       "    .dataframe tbody tr th:only-of-type {\n",
       "        vertical-align: middle;\n",
       "    }\n",
       "\n",
       "    .dataframe tbody tr th {\n",
       "        vertical-align: top;\n",
       "    }\n",
       "\n",
       "    .dataframe thead th {\n",
       "        text-align: right;\n",
       "    }\n",
       "</style>\n",
       "<table border=\"1\" class=\"dataframe\">\n",
       "  <thead>\n",
       "    <tr style=\"text-align: right;\">\n",
       "      <th></th>\n",
       "      <th>id</th>\n",
       "      <th>title</th>\n",
       "      <th>url</th>\n",
       "      <th>num_points</th>\n",
       "      <th>num_comments</th>\n",
       "      <th>author</th>\n",
       "      <th>created_at</th>\n",
       "    </tr>\n",
       "  </thead>\n",
       "  <tbody>\n",
       "    <tr>\n",
       "      <th>0</th>\n",
       "      <td>12224879</td>\n",
       "      <td>Interactive Dynamic Video</td>\n",
       "      <td>http://www.interactivedynamicvideo.com/</td>\n",
       "      <td>386</td>\n",
       "      <td>52</td>\n",
       "      <td>ne0phyte</td>\n",
       "      <td>8/4/2016 11:52</td>\n",
       "    </tr>\n",
       "    <tr>\n",
       "      <th>1</th>\n",
       "      <td>11964716</td>\n",
       "      <td>Florida DJs May Face Felony for April Fools' W...</td>\n",
       "      <td>http://www.thewire.com/entertainment/2013/04/f...</td>\n",
       "      <td>2</td>\n",
       "      <td>1</td>\n",
       "      <td>vezycash</td>\n",
       "      <td>6/23/2016 22:20</td>\n",
       "    </tr>\n",
       "    <tr>\n",
       "      <th>2</th>\n",
       "      <td>11919867</td>\n",
       "      <td>Technology ventures: From Idea to Enterprise</td>\n",
       "      <td>https://www.amazon.com/Technology-Ventures-Ent...</td>\n",
       "      <td>3</td>\n",
       "      <td>1</td>\n",
       "      <td>hswarna</td>\n",
       "      <td>6/17/2016 0:01</td>\n",
       "    </tr>\n",
       "    <tr>\n",
       "      <th>3</th>\n",
       "      <td>10301696</td>\n",
       "      <td>Note by Note: The Making of Steinway L1037 (2007)</td>\n",
       "      <td>http://www.nytimes.com/2007/11/07/movies/07ste...</td>\n",
       "      <td>8</td>\n",
       "      <td>2</td>\n",
       "      <td>walterbell</td>\n",
       "      <td>9/30/2015 4:12</td>\n",
       "    </tr>\n",
       "    <tr>\n",
       "      <th>4</th>\n",
       "      <td>10482257</td>\n",
       "      <td>Title II kills investment? Comcast and other I...</td>\n",
       "      <td>http://arstechnica.com/business/2015/10/comcas...</td>\n",
       "      <td>53</td>\n",
       "      <td>22</td>\n",
       "      <td>Deinos</td>\n",
       "      <td>10/31/2015 9:48</td>\n",
       "    </tr>\n",
       "  </tbody>\n",
       "</table>\n",
       "</div>"
      ],
      "text/plain": [
       "         id                                              title  \\\n",
       "0  12224879                          Interactive Dynamic Video   \n",
       "1  11964716  Florida DJs May Face Felony for April Fools' W...   \n",
       "2  11919867       Technology ventures: From Idea to Enterprise   \n",
       "3  10301696  Note by Note: The Making of Steinway L1037 (2007)   \n",
       "4  10482257  Title II kills investment? Comcast and other I...   \n",
       "\n",
       "                                                 url  num_points  \\\n",
       "0            http://www.interactivedynamicvideo.com/         386   \n",
       "1  http://www.thewire.com/entertainment/2013/04/f...           2   \n",
       "2  https://www.amazon.com/Technology-Ventures-Ent...           3   \n",
       "3  http://www.nytimes.com/2007/11/07/movies/07ste...           8   \n",
       "4  http://arstechnica.com/business/2015/10/comcas...          53   \n",
       "\n",
       "   num_comments      author       created_at  \n",
       "0            52    ne0phyte   8/4/2016 11:52  \n",
       "1             1    vezycash  6/23/2016 22:20  \n",
       "2             1     hswarna   6/17/2016 0:01  \n",
       "3             2  walterbell   9/30/2015 4:12  \n",
       "4            22      Deinos  10/31/2015 9:48  "
      ]
     },
     "execution_count": 24,
     "metadata": {},
     "output_type": "execute_result"
    }
   ],
   "source": [
    "#2 Getting the first five rows\n",
    "df.head(5)"
   ]
  },
  {
   "cell_type": "code",
   "execution_count": 25,
   "id": "a90c04c7-fa42-4139-9e0c-777f65bff5b2",
   "metadata": {
    "tags": []
   },
   "outputs": [
    {
     "data": {
      "text/html": [
       "<div>\n",
       "<style scoped>\n",
       "    .dataframe tbody tr th:only-of-type {\n",
       "        vertical-align: middle;\n",
       "    }\n",
       "\n",
       "    .dataframe tbody tr th {\n",
       "        vertical-align: top;\n",
       "    }\n",
       "\n",
       "    .dataframe thead th {\n",
       "        text-align: right;\n",
       "    }\n",
       "</style>\n",
       "<table border=\"1\" class=\"dataframe\">\n",
       "  <thead>\n",
       "    <tr style=\"text-align: right;\">\n",
       "      <th></th>\n",
       "      <th>id</th>\n",
       "      <th>title</th>\n",
       "      <th>url</th>\n",
       "      <th>num_points</th>\n",
       "      <th>num_comments</th>\n",
       "      <th>author</th>\n",
       "      <th>created_at</th>\n",
       "    </tr>\n",
       "  </thead>\n",
       "  <tbody>\n",
       "    <tr>\n",
       "      <th>20094</th>\n",
       "      <td>12379592</td>\n",
       "      <td>How Purism Avoids Intels Active Management Tec...</td>\n",
       "      <td>https://puri.sm/philosophy/how-purism-avoids-i...</td>\n",
       "      <td>10</td>\n",
       "      <td>6</td>\n",
       "      <td>AdmiralAsshat</td>\n",
       "      <td>8/29/2016 2:22</td>\n",
       "    </tr>\n",
       "    <tr>\n",
       "      <th>20095</th>\n",
       "      <td>10339284</td>\n",
       "      <td>YC Application Translated and Broken Down</td>\n",
       "      <td>https://medium.com/@zreitano/the-yc-applicatio...</td>\n",
       "      <td>4</td>\n",
       "      <td>1</td>\n",
       "      <td>zreitano</td>\n",
       "      <td>10/6/2015 14:57</td>\n",
       "    </tr>\n",
       "    <tr>\n",
       "      <th>20096</th>\n",
       "      <td>10824382</td>\n",
       "      <td>Microkernels are slow and Elvis didn't do no d...</td>\n",
       "      <td>http://blog.darknedgy.net/technology/2016/01/0...</td>\n",
       "      <td>169</td>\n",
       "      <td>132</td>\n",
       "      <td>vezzy-fnord</td>\n",
       "      <td>1/2/2016 0:49</td>\n",
       "    </tr>\n",
       "    <tr>\n",
       "      <th>20097</th>\n",
       "      <td>10739875</td>\n",
       "      <td>How Product Hunt really works</td>\n",
       "      <td>https://medium.com/@benjiwheeler/how-product-h...</td>\n",
       "      <td>695</td>\n",
       "      <td>222</td>\n",
       "      <td>brw12</td>\n",
       "      <td>12/15/2015 19:32</td>\n",
       "    </tr>\n",
       "    <tr>\n",
       "      <th>20098</th>\n",
       "      <td>11680777</td>\n",
       "      <td>RoboBrowser: Your friendly neighborhood web sc...</td>\n",
       "      <td>https://github.com/jmcarp/robobrowser</td>\n",
       "      <td>182</td>\n",
       "      <td>58</td>\n",
       "      <td>pmoriarty</td>\n",
       "      <td>5/12/2016 1:43</td>\n",
       "    </tr>\n",
       "  </tbody>\n",
       "</table>\n",
       "</div>"
      ],
      "text/plain": [
       "             id                                              title  \\\n",
       "20094  12379592  How Purism Avoids Intels Active Management Tec...   \n",
       "20095  10339284          YC Application Translated and Broken Down   \n",
       "20096  10824382  Microkernels are slow and Elvis didn't do no d...   \n",
       "20097  10739875                      How Product Hunt really works   \n",
       "20098  11680777  RoboBrowser: Your friendly neighborhood web sc...   \n",
       "\n",
       "                                                     url  num_points  \\\n",
       "20094  https://puri.sm/philosophy/how-purism-avoids-i...          10   \n",
       "20095  https://medium.com/@zreitano/the-yc-applicatio...           4   \n",
       "20096  http://blog.darknedgy.net/technology/2016/01/0...         169   \n",
       "20097  https://medium.com/@benjiwheeler/how-product-h...         695   \n",
       "20098              https://github.com/jmcarp/robobrowser         182   \n",
       "\n",
       "       num_comments         author        created_at  \n",
       "20094             6  AdmiralAsshat    8/29/2016 2:22  \n",
       "20095             1       zreitano   10/6/2015 14:57  \n",
       "20096           132    vezzy-fnord     1/2/2016 0:49  \n",
       "20097           222          brw12  12/15/2015 19:32  \n",
       "20098            58      pmoriarty    5/12/2016 1:43  "
      ]
     },
     "execution_count": 25,
     "metadata": {},
     "output_type": "execute_result"
    }
   ],
   "source": [
    "#3 Geeting the last five rows\n",
    "df.tail(5)"
   ]
  },
  {
   "cell_type": "code",
   "execution_count": 28,
   "id": "32cf44d2-96e1-4d2f-86e8-a0d558a4f4b6",
   "metadata": {
    "tags": []
   },
   "outputs": [
    {
     "data": {
      "text/plain": [
       "Index(['id', 'title', 'url', 'num_points', 'num_comments', 'author',\n",
       "       'created_at'],\n",
       "      dtype='object')"
      ]
     },
     "execution_count": 28,
     "metadata": {},
     "output_type": "execute_result"
    }
   ],
   "source": [
    "#4 Getting the column title\n",
    "df.columns"
   ]
  },
  {
   "cell_type": "code",
   "execution_count": 29,
   "id": "952ef210-878c-44d5-a42c-372e8494f559",
   "metadata": {
    "tags": []
   },
   "outputs": [
    {
     "data": {
      "text/plain": [
       "(20099, 7)"
      ]
     },
     "execution_count": 29,
     "metadata": {},
     "output_type": "execute_result"
    }
   ],
   "source": [
    "#5 Getting rows and columns\n",
    "df.shape\n"
   ]
  },
  {
   "cell_type": "code",
   "execution_count": 35,
   "id": "cb0923c8-0bef-48f3-8c6e-2a6210d6f37c",
   "metadata": {
    "tags": []
   },
   "outputs": [
    {
     "data": {
      "text/plain": [
       "0        False\n",
       "1        False\n",
       "2        False\n",
       "3        False\n",
       "4        False\n",
       "         ...  \n",
       "20094    False\n",
       "20095    False\n",
       "20096    False\n",
       "20097    False\n",
       "20098    False\n",
       "Name: python, Length: 20099, dtype: bool"
      ]
     },
     "execution_count": 35,
     "metadata": {},
     "output_type": "execute_result"
    }
   ],
   "source": [
    "df['python'] = df['title'] == 'python'\n",
    "df['python']"
   ]
  },
  {
   "cell_type": "code",
   "execution_count": 36,
   "id": "97f0a1ad-a45a-43d4-aecc-5d363695a3db",
   "metadata": {
    "tags": []
   },
   "outputs": [
    {
     "data": {
      "text/plain": [
       "0        False\n",
       "1        False\n",
       "2        False\n",
       "3        False\n",
       "4        False\n",
       "         ...  \n",
       "20094    False\n",
       "20095    False\n",
       "20096    False\n",
       "20097    False\n",
       "20098    False\n",
       "Name: javascript, Length: 20099, dtype: bool"
      ]
     },
     "execution_count": 36,
     "metadata": {},
     "output_type": "execute_result"
    }
   ],
   "source": [
    "df['javascript'] = df['title'] == 'javascript'\n",
    "df['javascript']"
   ]
  },
  {
   "cell_type": "code",
   "execution_count": 37,
   "id": "89d56a7c-88de-43ca-8fb6-44b658c18d16",
   "metadata": {
    "tags": []
   },
   "outputs": [
    {
     "data": {
      "text/plain": [
       "<bound method NDFrame.describe of              id                                              title  \\\n",
       "0      12224879                          Interactive Dynamic Video   \n",
       "1      11964716  Florida DJs May Face Felony for April Fools' W...   \n",
       "2      11919867       Technology ventures: From Idea to Enterprise   \n",
       "3      10301696  Note by Note: The Making of Steinway L1037 (2007)   \n",
       "4      10482257  Title II kills investment? Comcast and other I...   \n",
       "...         ...                                                ...   \n",
       "20094  12379592  How Purism Avoids Intels Active Management Tec...   \n",
       "20095  10339284          YC Application Translated and Broken Down   \n",
       "20096  10824382  Microkernels are slow and Elvis didn't do no d...   \n",
       "20097  10739875                      How Product Hunt really works   \n",
       "20098  11680777  RoboBrowser: Your friendly neighborhood web sc...   \n",
       "\n",
       "                                                     url  num_points  \\\n",
       "0                http://www.interactivedynamicvideo.com/         386   \n",
       "1      http://www.thewire.com/entertainment/2013/04/f...           2   \n",
       "2      https://www.amazon.com/Technology-Ventures-Ent...           3   \n",
       "3      http://www.nytimes.com/2007/11/07/movies/07ste...           8   \n",
       "4      http://arstechnica.com/business/2015/10/comcas...          53   \n",
       "...                                                  ...         ...   \n",
       "20094  https://puri.sm/philosophy/how-purism-avoids-i...          10   \n",
       "20095  https://medium.com/@zreitano/the-yc-applicatio...           4   \n",
       "20096  http://blog.darknedgy.net/technology/2016/01/0...         169   \n",
       "20097  https://medium.com/@benjiwheeler/how-product-h...         695   \n",
       "20098              https://github.com/jmcarp/robobrowser         182   \n",
       "\n",
       "       num_comments         author        created_at  python  javascript  \n",
       "0                52       ne0phyte    8/4/2016 11:52   False       False  \n",
       "1                 1       vezycash   6/23/2016 22:20   False       False  \n",
       "2                 1        hswarna    6/17/2016 0:01   False       False  \n",
       "3                 2     walterbell    9/30/2015 4:12   False       False  \n",
       "4                22         Deinos   10/31/2015 9:48   False       False  \n",
       "...             ...            ...               ...     ...         ...  \n",
       "20094             6  AdmiralAsshat    8/29/2016 2:22   False       False  \n",
       "20095             1       zreitano   10/6/2015 14:57   False       False  \n",
       "20096           132    vezzy-fnord     1/2/2016 0:49   False       False  \n",
       "20097           222          brw12  12/15/2015 19:32   False       False  \n",
       "20098            58      pmoriarty    5/12/2016 1:43   False       False  \n",
       "\n",
       "[20099 rows x 9 columns]>"
      ]
     },
     "execution_count": 37,
     "metadata": {},
     "output_type": "execute_result"
    }
   ],
   "source": [
    "df.describe"
   ]
  },
  {
   "cell_type": "code",
   "execution_count": null,
   "id": "98b4cdd4-ccb5-48bf-9e83-f5accdbcef75",
   "metadata": {},
   "outputs": [],
   "source": []
  }
 ],
 "metadata": {
  "kernelspec": {
   "display_name": "Python 3 (ipykernel)",
   "language": "python",
   "name": "python3"
  },
  "language_info": {
   "codemirror_mode": {
    "name": "ipython",
    "version": 3
   },
   "file_extension": ".py",
   "mimetype": "text/x-python",
   "name": "python",
   "nbconvert_exporter": "python",
   "pygments_lexer": "ipython3",
   "version": "3.11.5"
  }
 },
 "nbformat": 4,
 "nbformat_minor": 5
}
