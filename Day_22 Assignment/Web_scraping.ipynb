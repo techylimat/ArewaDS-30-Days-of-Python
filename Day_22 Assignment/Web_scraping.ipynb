{
 "cells": [
  {
   "cell_type": "markdown",
   "metadata": {},
   "source": [
    "## EXERCISES DAY 22"
   ]
  },
  {
   "cell_type": "code",
   "execution_count": 32,
   "metadata": {},
   "outputs": [
    {
     "name": "stdout",
     "output_type": "stream",
     "text": [
      "200\n"
     ]
    }
   ],
   "source": [
    "# 1\n",
    "import requests\n",
    "from bs4 import BeautifulSoup\n",
    "url = 'http://www.bu.edu/president/boston-university-facts-stats/'\n",
    "# getting the data\n",
    "response = requests.get(url)\n",
    "# checking for the status\n",
    "status = response.status_code\n",
    "print(status)"
   ]
  },
  {
   "cell_type": "code",
   "execution_count": 36,
   "metadata": {},
   "outputs": [
    {
     "name": "stdout",
     "output_type": "stream",
     "text": [
      "Table not found on the page.\n"
     ]
    }
   ],
   "source": [
    "# 2\n",
    "import requests\n",
    "from bs4 import BeautifulSoup\n",
    "import json\n",
    "\n",
    "url = 'https://archive.ics.uci.edu/ml/datasets.php'\n",
    "\n",
    "# Make a request to the URL\n",
    "response = requests.get(url)\n",
    "\n",
    "# Parse the HTML content\n",
    "soup = BeautifulSoup(response.text, 'html.parser')\n",
    "\n",
    "# Locate the table (adjust this based on the actual HTML structure)\n",
    "table = soup.find('table')\n",
    "\n",
    "# Check if the table is found\n",
    "if table is not None:\n",
    "    table_data = []\n",
    "\n",
    "    # Iterate through rows and columns of the table\n",
    "    for row in table.find_all('tr')[1:]:  # Skip the header row assuming it exists\n",
    "        columns = row.find_all(['td', 'th'])\n",
    "        row_data = [col.text.strip() for col in columns]\n",
    "        table_data.append(row_data)\n",
    "\n",
    "    # Save the table data to a JSON file\n",
    "    with open('table_data.json', 'w') as json_file:\n",
    "        json.dump(table_data, json_file, indent=2)\n",
    "\n",
    "    print('Table data has been extracted and saved to table_data.json')\n",
    "else:\n",
    "    print('Table not found on the page.')\n"
   ]
  },
  {
   "cell_type": "code",
   "execution_count": 37,
   "metadata": {},
   "outputs": [
    {
     "name": "stdout",
     "output_type": "stream",
     "text": [
      "Presidents data has been extracted and saved to presidents_data.json\n"
     ]
    }
   ],
   "source": [
    "# 3\n",
    "import requests\n",
    "from bs4 import BeautifulSoup\n",
    "import json\n",
    "\n",
    "url = 'https://en.wikipedia.org/wiki/List_of_presidents_of_the_United_States'\n",
    "response = requests.get(url)\n",
    "\n",
    "# Parse the HTML content\n",
    "soup = BeautifulSoup(response.text, 'html.parser')\n",
    "\n",
    "# Locate the table containing the list of presidents\n",
    "presidents_table = soup.find('table', {'class': 'wikitable'})\n",
    "\n",
    "# Check if the table is found\n",
    "\n",
    "presidents_data = []\n",
    "\n",
    "    # Iterate through rows and columns of the table\n",
    "for row in presidents_table.find_all('tr')[1:]:  # Skip the header row\n",
    "    columns = row.find_all(['td', 'th'])\n",
    "    president_info = [col.text.strip() for col in columns]\n",
    "    presidents_data.append({\n",
    "        'Number': president_info[0],\n",
    "        'President': president_info[1],\n",
    "        'Presidency Start': president_info[2],\n",
    "        'Presidency End': president_info[3] if len(president_info) > 3 else None,\n",
    "        'Vice President': president_info[4] if len(president_info) > 4 else None\n",
    "        })\n",
    "\n",
    "    # Save the presidents data to a JSON file\n",
    "    with open('presidents_data.json', 'w') as json_file:\n",
    "        json.dump(presidents_data, json_file, indent=2)\n",
    "\n",
    "print('Presidents data has been extracted and saved to presidents_data.json')\n"
   ]
  }
 ],
 "metadata": {
  "kernelspec": {
   "display_name": "ArewaDSworkspace",
   "language": "python",
   "name": "python3"
  },
  "language_info": {
   "codemirror_mode": {
    "name": "ipython",
    "version": 3
   },
   "file_extension": ".py",
   "mimetype": "text/x-python",
   "name": "python",
   "nbconvert_exporter": "python",
   "pygments_lexer": "ipython3",
   "version": "3.8.18"
  }
 },
 "nbformat": 4,
 "nbformat_minor": 2
}
