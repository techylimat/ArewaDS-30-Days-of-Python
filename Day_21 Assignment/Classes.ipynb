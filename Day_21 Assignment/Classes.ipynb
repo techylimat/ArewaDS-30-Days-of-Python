{
 "cells": [
  {
   "cell_type": "markdown",
   "metadata": {},
   "source": [
    "## EXERCISES DAY 21"
   ]
  },
  {
   "cell_type": "markdown",
   "metadata": {},
   "source": [
    "EXCERCISE LEVEL 1"
   ]
  },
  {
   "cell_type": "code",
   "execution_count": 23,
   "metadata": {},
   "outputs": [
    {
     "name": "stdout",
     "output_type": "stream",
     "text": [
      "Count: 25\n",
      "Sum: 744\n",
      "Min: 24\n",
      "Max: 38\n",
      "Range: 14\n",
      "Mean: 29.76\n",
      "Median: 29\n",
      "Mode: {'mode': 31, 'count': 1}\n",
      "Standard Deviation: 4.188364836066696\n",
      "Variance: 17.5424\n",
      "Frequency Distribution: [(5, 26), (4, 27), (3, 32), (2, 37), (2, 34), (2, 33), (2, 31), (2, 24), (1, 38), (1, 29), (1, 25)]\n"
     ]
    }
   ],
   "source": [
    "ages = [31, 26, 34, 37, 27, 26, 32, 32, 26, 27, 27, 24, 32, 33, 27, 25, 26, 38, 37, 31, 34, 24, 33, 29, 26]\n",
    "\n",
    "class Statistics:\n",
    "    def __init__(self, data):\n",
    "        self.data = data\n",
    "    \n",
    "    def count(self):\n",
    "        return len(self.data)\n",
    "    \n",
    "    def sum(self):\n",
    "        return sum(self.data)\n",
    "    \n",
    "    def min(self):\n",
    "        return min(self.data)\n",
    "    \n",
    "    def max(self):\n",
    "        return max(self.data)\n",
    "    \n",
    "    def range(self):\n",
    "        return max(self.data) - min(self.data)\n",
    "    \n",
    "    def mean(self):\n",
    "        return sum(self.data) / len(self.data) \n",
    "    \n",
    "    def median(self):\n",
    "        sorted_data = sorted(self.data)\n",
    "        n = len(sorted_data)\n",
    "        if n % 2 == 0:\n",
    "            return (sorted_data[n//2-1] + sorted_data[n//2]/2) / 2\n",
    "        else:\n",
    "            return sorted_data[n//2]\n",
    "    def mode(self):\n",
    "        counts = {}\n",
    "        for value in self.data:\n",
    "            if value in counts:\n",
    "                counts[value] += 1\n",
    "            else:\n",
    "                counts[value] = 1\n",
    "                max_count = max(counts.values())\n",
    "                modes = [value for value, count in counts.items() if count == max_count]\n",
    "                return {'mode': modes[0], 'count': max_count}\n",
    "            \n",
    "    def std(self):\n",
    "        mean = self.mean()\n",
    "        squared_diffs = [(x-mean) **2 for x in self.data]\n",
    "        variance = sum(squared_diffs) / len(self.data)\n",
    "        return variance ** 0.5\n",
    "    \n",
    "    def var(self):\n",
    "        mean = self.mean()\n",
    "        squared_diffs = [(x - mean) **2 for x in self.data]\n",
    "        return sum(squared_diffs) / len(self.data)\n",
    "    \n",
    "    def freq_dist(self):\n",
    "        counts = {}\n",
    "        for value in self.data:\n",
    "            if value in counts:\n",
    "                counts[value] += 1\n",
    "            else:\n",
    "                counts[value] = 1\n",
    "        freq_dist = [(count, value) for value, count in counts.items()]\n",
    "        freq_dist.sort(reverse = True)\n",
    "        return freq_dist\n",
    "                \n",
    "data = Statistics(ages)                \n",
    "print('Count:', data.count())\n",
    "print('Sum:', data.sum())\n",
    "print('Min:', data.min())\n",
    "print('Max:', data.max())\n",
    "print('Range:', data.range())\n",
    "print('Mean:', data.mean())\n",
    "print('Median:', data.median())\n",
    "print('Mode:', data.mode())\n",
    "print('Standard Deviation:', data.std())\n",
    "print('Variance:', data.var())\n",
    "print('Frequency Distribution:', data.freq_dist())\n",
    "    "
   ]
  },
  {
   "cell_type": "markdown",
   "metadata": {},
   "source": [
    "EXERCISE LEVEL 2"
   ]
  },
  {
   "cell_type": "code",
   "execution_count": 24,
   "metadata": {},
   "outputs": [
    {
     "name": "stdout",
     "output_type": "stream",
     "text": [
      "Account Information for Asabeneh Yetayah:\n",
      "Total Income: 1900\n",
      "Total Expense: 650\n",
      "Account Balance: 1250\n",
      "\n",
      "Income Details:\n",
      "Salary: 1500\n",
      "Freelance Work: 400\n",
      "\n",
      "Expense Details:\n",
      "Groceries: 250\n",
      "Dining Out: 300\n",
      "Utilities: 100\n",
      "\n"
     ]
    }
   ],
   "source": [
    "class PersonAccount:\n",
    "    def __init__(self, firstname, lastname):\n",
    "        self.firstname = firstname\n",
    "        self.lastname = lastname\n",
    "        self.incomes = {}  # Dictionary to store incomes and their descriptions\n",
    "        self.expenses = {}  # Dictionary to store expenses and their descriptions\n",
    "\n",
    "    def add_income(self, amount, description):\n",
    "        self.incomes[description] = amount\n",
    "\n",
    "    def add_expense(self, amount, description):\n",
    "        self.expenses[description] = amount\n",
    "\n",
    "    def total_income(self):\n",
    "        return sum(self.incomes.values())\n",
    "\n",
    "    def total_expense(self):\n",
    "        return sum(self.expenses.values())\n",
    "\n",
    "    def account_balance(self):\n",
    "        return self.total_income() - self.total_expense()\n",
    "\n",
    "    def account_info(self):\n",
    "        info = f\"Account Information for {self.firstname} {self.lastname}:\\n\"\n",
    "        info += f\"Total Income: {self.total_income()}\\n\"\n",
    "        info += f\"Total Expense: {self.total_expense()}\\n\"\n",
    "        info += f\"Account Balance: {self.account_balance()}\\n\"\n",
    "        info += \"\\nIncome Details:\\n\"\n",
    "        for desc, amount in self.incomes.items():\n",
    "            info += f\"{desc}: {amount}\\n\"\n",
    "        info += \"\\nExpense Details:\\n\"\n",
    "        for desc, amount in self.expenses.items():\n",
    "            info += f\"{desc}: {amount}\\n\"\n",
    "        return info\n",
    "\n",
    "\n",
    "# Example :\n",
    "person = PersonAccount(\"Asabeneh\", \"Yetayah\")\n",
    "\n",
    "person.add_income(1500, \"Salary\")\n",
    "person.add_income(400, \"Freelance Work\")\n",
    "\n",
    "person.add_expense(250, \"Groceries\")\n",
    "person.add_expense(300, \"Dining Out\")\n",
    "person.add_expense(100, \"Utilities\")\n",
    "\n",
    "print(person.account_info())\n",
    "    "
   ]
  }
 ],
 "metadata": {
  "kernelspec": {
   "display_name": "ArewaDSworkspace",
   "language": "python",
   "name": "python3"
  },
  "language_info": {
   "codemirror_mode": {
    "name": "ipython",
    "version": 3
   },
   "file_extension": ".py",
   "mimetype": "text/x-python",
   "name": "python",
   "nbconvert_exporter": "python",
   "pygments_lexer": "ipython3",
   "version": "3.8.18"
  }
 },
 "nbformat": 4,
 "nbformat_minor": 2
}
