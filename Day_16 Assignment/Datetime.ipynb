{
 "cells": [
  {
   "cell_type": "markdown",
   "metadata": {},
   "source": [
    "## EXERCISE DAY 16"
   ]
  },
  {
   "cell_type": "code",
   "execution_count": 70,
   "metadata": {},
   "outputs": [
    {
     "name": "stdout",
     "output_type": "stream",
     "text": [
      "2023-12-18 19:23:42.207801\n",
      "18 12 2023 19 23\n",
      "timestamp  1702927422.207801\n",
      "18 / 12 / 2023, 19: 23\n"
     ]
    }
   ],
   "source": [
    "from datetime import datetime\n",
    "now = datetime.now()\n",
    "print(now)\n",
    "\n",
    "day = now.day\n",
    "month = now.month\n",
    "year = now.year\n",
    "hour = now.hour\n",
    "minute = now.minute\n",
    "second = now.second\n",
    "timestamp =now.timestamp()\n",
    "print(day, month, year, hour, minute)\n",
    "print('timestamp ', timestamp)\n",
    "print(f'{day} / {month} / {year}, {hour}: {minute}')\n"
   ]
  },
  {
   "cell_type": "code",
   "execution_count": 71,
   "metadata": {},
   "outputs": [
    {
     "name": "stdout",
     "output_type": "stream",
     "text": [
      "12/18/2023, 19:23:42\n"
     ]
    }
   ],
   "source": [
    "now =  datetime.now()\n",
    "date = now.strftime(\"%m/%d/%Y, %H:%M:%S\")\n",
    "print(date)"
   ]
  },
  {
   "cell_type": "code",
   "execution_count": 72,
   "metadata": {},
   "outputs": [
    {
     "name": "stdout",
     "output_type": "stream",
     "text": [
      "date_string = 5 December, 2019\n",
      "date_object=  2019-12-05 00:00:00\n"
     ]
    }
   ],
   "source": [
    "date_string = '5 December, 2019'\n",
    "print(\"date_string =\", date_string)\n",
    "date_object = datetime.strptime(date_string, \"%d %B, %Y\")\n",
    "print('date_object= ', date_object)"
   ]
  },
  {
   "cell_type": "code",
   "execution_count": 73,
   "metadata": {},
   "outputs": [
    {
     "name": "stdout",
     "output_type": "stream",
     "text": [
      "time_diff=  13 days, 16:00:00\n"
     ]
    }
   ],
   "source": [
    "today = datetime(2023, 12, 18, 8, 0, 0)\n",
    "new_year = datetime(2024, 1, 1, 0, 0, 0)\n",
    "time_diff = new_year - today\n",
    "print('time_diff= ', time_diff)\n"
   ]
  },
  {
   "cell_type": "code",
   "execution_count": 74,
   "metadata": {},
   "outputs": [
    {
     "name": "stdout",
     "output_type": "stream",
     "text": [
      "time_difference= 16422 days, 8:00:00\n"
     ]
    }
   ],
   "source": [
    "t1 = datetime(1979, 1, 1, 0, 0, 0)\n",
    "t2 = datetime(2023, 12, 18, 8, 0, 0)\n",
    "time_difference = t2 - t1\n",
    "print('time_difference=', time_difference)"
   ]
  },
  {
   "cell_type": "markdown",
   "metadata": {},
   "source": [
    "Datetime module in python can be used for the following:\n",
    "1. Working with dates and times: You can create, manipulate, and format dates and times using the datetime module.\n",
    "\n",
    "2. Calculating time difference: You can calculate the differnce between two dates or times to determine the duration or time elapsed between events.\n",
    "\n",
    "3. Parsing and formatting dates and times: The datetime module provides methods to parse strings into datetime objects and format datetime objects into strings.\n",
    "\n",
    "4. Timezone support: The datetime module allows you to work with different timezones and perform timezone conversion.\n",
    "\n"
   ]
  }
 ],
 "metadata": {
  "kernelspec": {
   "display_name": "ArewaDSworkspace",
   "language": "python",
   "name": "python3"
  },
  "language_info": {
   "codemirror_mode": {
    "name": "ipython",
    "version": 3
   },
   "file_extension": ".py",
   "mimetype": "text/x-python",
   "name": "python",
   "nbconvert_exporter": "python",
   "pygments_lexer": "ipython3",
   "version": "3.8.18"
  }
 },
 "nbformat": 4,
 "nbformat_minor": 2
}
