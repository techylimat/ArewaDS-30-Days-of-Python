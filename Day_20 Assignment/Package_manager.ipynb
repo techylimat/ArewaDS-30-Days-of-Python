{
 "cells": [
  {
   "cell_type": "markdown",
   "metadata": {},
   "source": [
    "## EXERCISES DAY 20"
   ]
  },
  {
   "cell_type": "code",
   "execution_count": 63,
   "metadata": {},
   "outputs": [
    {
     "name": "stdout",
     "output_type": "stream",
     "text": [
      "Requirement already satisfied: requests in c:\\users\\user\\anaconda3\\envs\\arewadsworkspace\\lib\\site-packages (2.31.0)\n",
      "Requirement already satisfied: charset-normalizer<4,>=2 in c:\\users\\user\\anaconda3\\envs\\arewadsworkspace\\lib\\site-packages (from requests) (3.3.2)\n",
      "Requirement already satisfied: idna<4,>=2.5 in c:\\users\\user\\anaconda3\\envs\\arewadsworkspace\\lib\\site-packages (from requests) (3.6)\n",
      "Requirement already satisfied: urllib3<3,>=1.21.1 in c:\\users\\user\\anaconda3\\envs\\arewadsworkspace\\lib\\site-packages (from requests) (2.1.0)\n",
      "Requirement already satisfied: certifi>=2017.4.17 in c:\\users\\user\\anaconda3\\envs\\arewadsworkspace\\lib\\site-packages (from requests) (2023.11.17)\n"
     ]
    }
   ],
   "source": [
    "!pip install requests"
   ]
  },
  {
   "cell_type": "code",
   "execution_count": 64,
   "metadata": {},
   "outputs": [
    {
     "name": "stdout",
     "output_type": "stream",
     "text": [
      "Requirement already satisfied: numpy in c:\\users\\user\\anaconda3\\envs\\arewadsworkspace\\lib\\site-packages (1.24.4)\n"
     ]
    }
   ],
   "source": [
    "!pip install numpy"
   ]
  },
  {
   "cell_type": "code",
   "execution_count": 65,
   "metadata": {},
   "outputs": [
    {
     "name": "stdout",
     "output_type": "stream",
     "text": [
      "Requirement already satisfied: bs4 in c:\\users\\user\\anaconda3\\envs\\arewadsworkspace\\lib\\site-packages (0.0.1)\n",
      "Requirement already satisfied: beautifulsoup4 in c:\\users\\user\\anaconda3\\envs\\arewadsworkspace\\lib\\site-packages (from bs4) (4.12.2)\n",
      "Requirement already satisfied: soupsieve>1.2 in c:\\users\\user\\anaconda3\\envs\\arewadsworkspace\\lib\\site-packages (from beautifulsoup4->bs4) (2.5)\n"
     ]
    }
   ],
   "source": [
    "!pip install bs4"
   ]
  },
  {
   "cell_type": "code",
   "execution_count": 66,
   "metadata": {},
   "outputs": [
    {
     "name": "stdout",
     "output_type": "stream",
     "text": [
      "<li><a 23\n",
      "/> 18\n",
      "<meta 13\n",
      "<a 10\n",
      "<input 9\n",
      "<li> 7\n",
      "</li> 7\n",
      "<link 6\n",
      "<div 6\n",
      "of 5\n"
     ]
    }
   ],
   "source": [
    "# 1\n",
    "import requests\n",
    "from collections import Counter\n",
    "import re\n",
    "# getting the text from the url \n",
    "response = requests.get('http://www.gutenberg.org/files/1112/1112.txt')\n",
    "text = response.text\n",
    "\n",
    " # split the text into words\n",
    "words = text.split()\n",
    "# Remove punctuation and convert to lowercase\n",
    "text = re.sub(r'[^\\w\\s]', '', text.lower())\n",
    "# Count the frequency of each word\n",
    "word_counts = Counter(words)\n",
    "\n",
    "# Get the most common words\n",
    "most_common_words = word_counts.most_common(10)\n",
    "\n",
    "# print the most frequent words\n",
    "for word, count in most_common_words:\n",
    "    print(word, count)\n",
    "    \n",
    "\n",
    "    "
   ]
  },
  {
   "cell_type": "code",
   "execution_count": 67,
   "metadata": {},
   "outputs": [
    {
     "name": "stdout",
     "output_type": "stream",
     "text": [
      "Statistics for Cat Weights (in metric units):\n",
      "Min: 2\n",
      "Max: 5\n",
      "Mean: 3.2238805970149254\n",
      "Median: 3\n",
      "Standard Deviation: 0.8779367862598653\n",
      "\n",
      "Statistics for Cat Lifespans (in years):\n",
      "Min: 10.5\n",
      "Max: 19.0\n",
      "Mean: 13.746268656716419\n",
      "Median: 13.5\n",
      "Standard Deviation: 1.5725564658451314\n",
      "\n",
      "Frequency Table of Country and Breed:\n",
      "Egypt - Abyssinian: 1 occurrences\n",
      "Greece - Aegean: 1 occurrences\n",
      "United States - American Bobtail: 1 occurrences\n",
      "United States - American Curl: 1 occurrences\n",
      "United States - American Shorthair: 1 occurrences\n",
      "United States - American Wirehair: 1 occurrences\n",
      "United Arab Emirates - Arabian Mau: 1 occurrences\n",
      "Australia - Australian Mist: 1 occurrences\n",
      "United States - Balinese: 1 occurrences\n",
      "United States - Bambino: 1 occurrences\n",
      "United States - Bengal: 1 occurrences\n",
      "France - Birman: 1 occurrences\n",
      "United States - Bombay: 1 occurrences\n",
      "United Kingdom - British Longhair: 1 occurrences\n",
      "United Kingdom - British Shorthair: 1 occurrences\n",
      "Burma - Burmese: 1 occurrences\n",
      "United Kingdom - Burmilla: 1 occurrences\n",
      "United States - California Spangled: 1 occurrences\n",
      "United States - Chantilly-Tiffany: 1 occurrences\n",
      "France - Chartreux: 1 occurrences\n",
      "Egypt - Chausie: 1 occurrences\n",
      "United States - Cheetoh: 1 occurrences\n",
      "United States - Colorpoint Shorthair: 1 occurrences\n",
      "United Kingdom - Cornish Rex: 1 occurrences\n",
      "Canada - Cymric: 1 occurrences\n",
      "Cyprus - Cyprus: 1 occurrences\n",
      "United Kingdom - Devon Rex: 1 occurrences\n",
      "Russia - Donskoy: 1 occurrences\n",
      "China - Dragon Li: 1 occurrences\n",
      "Egypt - Egyptian Mau: 1 occurrences\n",
      "Burma - European Burmese: 1 occurrences\n",
      "United States - Exotic Shorthair: 1 occurrences\n",
      "United Kingdom - Havana Brown: 1 occurrences\n",
      "United States - Himalayan: 1 occurrences\n",
      "Japan - Japanese Bobtail: 1 occurrences\n",
      "United States - Javanese: 1 occurrences\n",
      "Thailand - Khao Manee: 1 occurrences\n",
      "Thailand - Korat: 1 occurrences\n",
      "Russia - Kurilian: 1 occurrences\n",
      "Thailand - LaPerm: 1 occurrences\n",
      "United States - Maine Coon: 1 occurrences\n",
      "United Kingdom - Malayan: 1 occurrences\n",
      "Isle of Man - Manx: 1 occurrences\n",
      "United States - Munchkin: 1 occurrences\n",
      "United States - Nebelung: 1 occurrences\n",
      "Norway - Norwegian Forest Cat: 1 occurrences\n",
      "United States - Ocicat: 1 occurrences\n",
      "United States - Oriental: 1 occurrences\n",
      "Iran (Persia) - Persian: 1 occurrences\n",
      "United States - Pixie-bob: 1 occurrences\n",
      "United States - Ragamuffin: 1 occurrences\n",
      "United States - Ragdoll: 1 occurrences\n",
      "Russia - Russian Blue: 1 occurrences\n",
      "United States - Savannah: 1 occurrences\n",
      "United Kingdom - Scottish Fold: 1 occurrences\n",
      "United States - Selkirk Rex: 1 occurrences\n",
      "Thailand - Siamese: 1 occurrences\n",
      "Russia - Siberian: 1 occurrences\n",
      "Singapore - Singapura: 1 occurrences\n",
      "United States - Snowshoe: 1 occurrences\n",
      "Somalia - Somali: 1 occurrences\n",
      "Canada - Sphynx: 1 occurrences\n",
      "Canada - Tonkinese: 1 occurrences\n",
      "United States - Toyger: 1 occurrences\n",
      "Turkey - Turkish Angora: 1 occurrences\n",
      "Turkey - Turkish Van: 1 occurrences\n",
      "United States - York Chocolate: 1 occurrences\n"
     ]
    }
   ],
   "source": [
    "# 2\n",
    "import requests\n",
    "import statistics\n",
    "import numpy as np\n",
    "from collections import Counter\n",
    "\n",
    "cats_api = 'https://api.thecatapi.com/v1/breeds'\n",
    "\n",
    "def get_cat_data(api_url):\n",
    "    response = requests.get(api_url)\n",
    "    if response.status_code == 200:\n",
    "        return response.json()\n",
    "    else:\n",
    "        print(f\"Failed to retrieve data from the Cat API. Status code: {response.status_code}\")\n",
    "        return []\n",
    "\n",
    "def process_cat_data(cat_data):\n",
    "    weights = []\n",
    "    lifespans = []\n",
    "    country_breed_frequency = Counter()\n",
    "\n",
    "    for cat in cat_data:\n",
    "        # Weight processing\n",
    "        if 'weight' in cat and 'metric' in cat['weight']:\n",
    "            weight_metric = cat['weight']['metric']\n",
    "            weight_value = int(weight_metric.split()[0])  # Extract numeric value\n",
    "            weights.append(weight_value)\n",
    "\n",
    "        # Lifespan processing\n",
    "        if 'life_span' in cat:\n",
    "            lifespan_values = cat['life_span'].split('-')\n",
    "            if len(lifespan_values) == 2:\n",
    "                lifespan_value = (int(lifespan_values[0]) + int(lifespan_values[1])) / 2\n",
    "                lifespans.append(lifespan_value)\n",
    "\n",
    "        # Frequency table of country and breed\n",
    "        if 'origin' in cat and 'name' in cat:\n",
    "            country = cat['origin']\n",
    "            breed = cat['name']\n",
    "            country_breed_frequency[(country, breed)] += 1\n",
    "\n",
    "    return weights, lifespans, country_breed_frequency\n",
    "\n",
    "def calculate_statistics(data):\n",
    "    min_value = min(data)\n",
    "    max_value = max(data)\n",
    "    mean_value = statistics.mean(data)\n",
    "    median_value = statistics.median(data)\n",
    "    std_dev_value = np.std(data)\n",
    "\n",
    "    return min_value, max_value, mean_value, median_value, std_dev_value\n",
    "\n",
    "if __name__ == \"__main__\":\n",
    "    cat_data = get_cat_data(cats_api)\n",
    "\n",
    "    if cat_data:\n",
    "        weights, lifespans, country_breed_frequency = process_cat_data(cat_data)\n",
    "\n",
    "        # Calculate statistics for weights and lifespans\n",
    "        weight_statistics = calculate_statistics(weights)\n",
    "        lifespan_statistics = calculate_statistics(lifespans)\n",
    "\n",
    "        print(\"Statistics for Cat Weights (in metric units):\")\n",
    "        print(f\"Min: {weight_statistics[0]}\")\n",
    "        print(f\"Max: {weight_statistics[1]}\")\n",
    "        print(f\"Mean: {weight_statistics[2]}\")\n",
    "        print(f\"Median: {weight_statistics[3]}\")\n",
    "        print(f\"Standard Deviation: {weight_statistics[4]}\")\n",
    "\n",
    "        print(\"\\nStatistics for Cat Lifespans (in years):\")\n",
    "        print(f\"Min: {lifespan_statistics[0]}\")\n",
    "        print(f\"Max: {lifespan_statistics[1]}\")\n",
    "        print(f\"Mean: {lifespan_statistics[2]}\")\n",
    "        print(f\"Median: {lifespan_statistics[3]}\")\n",
    "        print(f\"Standard Deviation: {lifespan_statistics[4]}\")\n",
    "\n",
    "        print(\"\\nFrequency Table of Country and Breed:\")\n",
    "        for (country, breed), count in country_breed_frequency.items():\n",
    "            print(f\"{country} - {breed}: {count} occurrences\")\n",
    "    else:\n",
    "        print(\"No data retrieved from the Cat API.\")\n"
   ]
  },
  {
   "cell_type": "code",
   "execution_count": 68,
   "metadata": {},
   "outputs": [
    {
     "ename": "TypeError",
     "evalue": "'float' object is not subscriptable",
     "output_type": "error",
     "traceback": [
      "\u001b[1;31m---------------------------------------------------------------------------\u001b[0m",
      "\u001b[1;31mTypeError\u001b[0m                                 Traceback (most recent call last)",
      "\u001b[1;32mc:\\Users\\user\\Desktop\\Arewa-DS-Workspace\\ArewaDS-30-Days-of-Python\\Day_20 Assignment\\Package_manager.ipynb Cell 7\u001b[0m line \u001b[0;36m1\n\u001b[0;32m      <a href='vscode-notebook-cell:/c%3A/Users/user/Desktop/Arewa-DS-Workspace/ArewaDS-30-Days-of-Python/Day_20%20Assignment/Package_manager.ipynb#X14sZmlsZQ%3D%3D?line=8'>9</a>\u001b[0m     countries_data \u001b[39m=\u001b[39m response\u001b[39m.\u001b[39mjson()\n\u001b[0;32m     <a href='vscode-notebook-cell:/c%3A/Users/user/Desktop/Arewa-DS-Workspace/ArewaDS-30-Days-of-Python/Day_20%20Assignment/Package_manager.ipynb#X14sZmlsZQ%3D%3D?line=9'>10</a>\u001b[0m \u001b[39m# To get the largest country\u001b[39;00m\n\u001b[1;32m---> <a href='vscode-notebook-cell:/c%3A/Users/user/Desktop/Arewa-DS-Workspace/ArewaDS-30-Days-of-Python/Day_20%20Assignment/Package_manager.ipynb#X14sZmlsZQ%3D%3D?line=10'>11</a>\u001b[0m largest_countries \u001b[39m=\u001b[39m \u001b[39msorted\u001b[39;49m(countries_data, key\u001b[39m=\u001b[39;49m\u001b[39mlambda\u001b[39;49;00m x: x[\u001b[39m'\u001b[39;49m\u001b[39marea\u001b[39;49m\u001b[39m'\u001b[39;49m][\u001b[39m'\u001b[39;49m\u001b[39mtotal\u001b[39;49m\u001b[39m'\u001b[39;49m], reverse\u001b[39m=\u001b[39;49m\u001b[39mTrue\u001b[39;49;00m)[:\u001b[39m10\u001b[39m]\n\u001b[0;32m     <a href='vscode-notebook-cell:/c%3A/Users/user/Desktop/Arewa-DS-Workspace/ArewaDS-30-Days-of-Python/Day_20%20Assignment/Package_manager.ipynb#X14sZmlsZQ%3D%3D?line=12'>13</a>\u001b[0m \u001b[39m# to get most spoken languages\u001b[39;00m\n\u001b[0;32m     <a href='vscode-notebook-cell:/c%3A/Users/user/Desktop/Arewa-DS-Workspace/ArewaDS-30-Days-of-Python/Day_20%20Assignment/Package_manager.ipynb#X14sZmlsZQ%3D%3D?line=13'>14</a>\u001b[0m spoken_languages \u001b[39m=\u001b[39m {}\n",
      "\u001b[1;32mc:\\Users\\user\\Desktop\\Arewa-DS-Workspace\\ArewaDS-30-Days-of-Python\\Day_20 Assignment\\Package_manager.ipynb Cell 7\u001b[0m line \u001b[0;36m1\n\u001b[0;32m      <a href='vscode-notebook-cell:/c%3A/Users/user/Desktop/Arewa-DS-Workspace/ArewaDS-30-Days-of-Python/Day_20%20Assignment/Package_manager.ipynb#X14sZmlsZQ%3D%3D?line=8'>9</a>\u001b[0m     countries_data \u001b[39m=\u001b[39m response\u001b[39m.\u001b[39mjson()\n\u001b[0;32m     <a href='vscode-notebook-cell:/c%3A/Users/user/Desktop/Arewa-DS-Workspace/ArewaDS-30-Days-of-Python/Day_20%20Assignment/Package_manager.ipynb#X14sZmlsZQ%3D%3D?line=9'>10</a>\u001b[0m \u001b[39m# To get the largest country\u001b[39;00m\n\u001b[1;32m---> <a href='vscode-notebook-cell:/c%3A/Users/user/Desktop/Arewa-DS-Workspace/ArewaDS-30-Days-of-Python/Day_20%20Assignment/Package_manager.ipynb#X14sZmlsZQ%3D%3D?line=10'>11</a>\u001b[0m largest_countries \u001b[39m=\u001b[39m \u001b[39msorted\u001b[39m(countries_data, key\u001b[39m=\u001b[39m\u001b[39mlambda\u001b[39;00m x: x[\u001b[39m'\u001b[39;49m\u001b[39marea\u001b[39;49m\u001b[39m'\u001b[39;49m][\u001b[39m'\u001b[39;49m\u001b[39mtotal\u001b[39;49m\u001b[39m'\u001b[39;49m], reverse\u001b[39m=\u001b[39m\u001b[39mTrue\u001b[39;00m)[:\u001b[39m10\u001b[39m]\n\u001b[0;32m     <a href='vscode-notebook-cell:/c%3A/Users/user/Desktop/Arewa-DS-Workspace/ArewaDS-30-Days-of-Python/Day_20%20Assignment/Package_manager.ipynb#X14sZmlsZQ%3D%3D?line=12'>13</a>\u001b[0m \u001b[39m# to get most spoken languages\u001b[39;00m\n\u001b[0;32m     <a href='vscode-notebook-cell:/c%3A/Users/user/Desktop/Arewa-DS-Workspace/ArewaDS-30-Days-of-Python/Day_20%20Assignment/Package_manager.ipynb#X14sZmlsZQ%3D%3D?line=13'>14</a>\u001b[0m spoken_languages \u001b[39m=\u001b[39m {}\n",
      "\u001b[1;31mTypeError\u001b[0m: 'float' object is not subscriptable"
     ]
    }
   ],
   "source": [
    "# 3\n",
    "# import requests\n",
    "\n",
    "countries_api = 'https://restcountries.com/v3.1/all'\n",
    "\n",
    "response = requests.get('https://restcountries.com/v3.1/all')\n",
    "# check if the request is successfull\n",
    "if response.status_code == 200:\n",
    "    countries_data = response.json()\n",
    "# To get the largest country\n",
    "largest_countries = sorted(countries_data, key=lambda x: x['area']['total'], reverse=True)[:10]\n",
    "\n",
    "# to get most spoken languages\n",
    "spoken_languages = {}\n",
    "for country in countries_data:\n",
    "    for language in country['languages']:\n",
    "        spoken_languages = spoken_languages.get(language, 0) + 1\n",
    "        most_spoken_languages = sorted(spoken_languages.items(), key=lambda x: x[1], reverse=True)[:10]\n",
    " # To get total number of language   \n",
    "total_languages = len(spoken_languages)\n",
    "\n",
    "# print the results\n",
    "print('10 Largest Countries:')\n",
    "for country in largest_countries:\n",
    "    print(country['name']['common'])\n",
    "    \n",
    "print('\\n10 Most Spoken Languages:')\n",
    "for language, count in most_spoken_languages:\n",
    "    print(language, '-', count)\n",
    "    \n",
    "print('\\nTotal Number of Languages:', total_languages)\n",
    "\n",
    "         \n"
   ]
  },
  {
   "cell_type": "code",
   "execution_count": 69,
   "metadata": {},
   "outputs": [
    {
     "name": "stdout",
     "output_type": "stream",
     "text": [
      "Failed to retrieve data from UCI. Status code: 404\n"
     ]
    }
   ],
   "source": [
    "# 4\n",
    "import requests\n",
    "from bs4 import BeautifulSoup\n",
    "\n",
    "uci_url = 'https://archive.ics.uci.edu/ml/datasets.php'\n",
    "\n",
    "response = requests.get(uci_url)\n",
    "if response.status_code == 200:\n",
    "    soup = BeautifulSoup(response.content, 'html.parser')\n",
    "\n",
    "    # Extract and print the titles of datasets\n",
    "    dataset_titles = soup.find_all('span', class_='normal')\n",
    "    print(\"List of UCI Datasets:\")\n",
    "    for title in dataset_titles:\n",
    "        print(title.text.strip())\n",
    "else:\n",
    "    print(f\"Failed to retrieve data from UCI. Status code: {response.status_code}\")"
   ]
  }
 ],
 "metadata": {
  "kernelspec": {
   "display_name": "ArewaDSworkspace",
   "language": "python",
   "name": "python3"
  },
  "language_info": {
   "codemirror_mode": {
    "name": "ipython",
    "version": 3
   },
   "file_extension": ".py",
   "mimetype": "text/x-python",
   "name": "python",
   "nbconvert_exporter": "python",
   "pygments_lexer": "ipython3",
   "version": "3.8.18"
  }
 },
 "nbformat": 4,
 "nbformat_minor": 2
}
