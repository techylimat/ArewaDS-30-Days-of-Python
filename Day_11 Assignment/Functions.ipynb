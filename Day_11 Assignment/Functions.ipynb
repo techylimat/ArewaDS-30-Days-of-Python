{
 "cells": [
  {
   "cell_type": "markdown",
   "metadata": {},
   "source": [
    "## EXERCISE DAY 11"
   ]
  },
  {
   "cell_type": "markdown",
   "metadata": {},
   "source": [
    "EXERCISE LEVEL 1"
   ]
  },
  {
   "cell_type": "code",
   "execution_count": 668,
   "metadata": {},
   "outputs": [
    {
     "name": "stdout",
     "output_type": "stream",
     "text": [
      "Add two numbers:  7\n"
     ]
    }
   ],
   "source": [
    "def add_two_numbers(num_1, num_2):\n",
    "    sum = num_1 + num_2\n",
    "    return sum\n",
    "print('Add two numbers: ', add_two_numbers(3, 4))"
   ]
  },
  {
   "cell_type": "code",
   "execution_count": 669,
   "metadata": {},
   "outputs": [
    {
     "name": "stdout",
     "output_type": "stream",
     "text": [
      "Area of circle:  78.5\n"
     ]
    }
   ],
   "source": [
    "def area_of_circle(r):\n",
    "    pi = 3.14\n",
    "    area = pi * r **2\n",
    "    return area\n",
    "print('Area of circle: ', area_of_circle(5))"
   ]
  },
  {
   "cell_type": "code",
   "execution_count": 670,
   "metadata": {},
   "outputs": [
    {
     "name": "stdout",
     "output_type": "stream",
     "text": [
      "1\n",
      "2\n",
      "3\n",
      "4\n",
      "5\n",
      "6\n",
      "7\n",
      "8\n",
      "9\n",
      "10\n",
      "11\n",
      "12\n",
      "13\n",
      "14\n",
      "15\n",
      "16\n",
      "17\n",
      "18\n",
      "19\n",
      "20\n",
      "21\n",
      "22\n",
      "23\n",
      "24\n",
      "25\n",
      "26\n",
      "27\n",
      "28\n",
      "29\n",
      "30\n",
      "31\n",
      "32\n",
      "33\n",
      "34\n",
      "35\n",
      "36\n",
      "37\n",
      "38\n",
      "39\n",
      "40\n",
      "41\n",
      "42\n",
      "43\n",
      "44\n",
      "45\n",
      "46\n",
      "47\n",
      "48\n",
      "49\n",
      "50\n",
      "51\n",
      "52\n",
      "53\n",
      "54\n",
      "55\n",
      "56\n",
      "57\n",
      "58\n",
      "59\n",
      "60\n",
      "61\n",
      "62\n",
      "63\n",
      "64\n",
      "65\n",
      "66\n",
      "67\n",
      "68\n",
      "69\n",
      "70\n",
      "71\n",
      "72\n",
      "73\n",
      "74\n",
      "75\n",
      "76\n",
      "77\n",
      "78\n",
      "79\n",
      "80\n",
      "81\n",
      "82\n",
      "83\n",
      "84\n",
      "85\n",
      "86\n",
      "87\n",
      "88\n",
      "89\n",
      "90\n",
      "91\n",
      "92\n",
      "93\n",
      "94\n",
      "95\n",
      "96\n",
      "97\n",
      "98\n",
      "99\n",
      "100\n",
      "101\n",
      "Add all nums:  None\n"
     ]
    }
   ],
   "source": [
    "def add_all_nums(n):\n",
    "    total = 0\n",
    "    for i in range(n + 1):\n",
    "        total += 1\n",
    "        print(total)\n",
    "print('Add all nums: ', add_all_nums(100))"
   ]
  },
  {
   "cell_type": "code",
   "execution_count": 671,
   "metadata": {},
   "outputs": [
    {
     "name": "stdout",
     "output_type": "stream",
     "text": [
      "celsius to fahrenheit:  77.0\n"
     ]
    }
   ],
   "source": [
    "def celsius_to_fahrenheit(celsius):\n",
    "    fahrenheit = (celsius * 9/5) + 32\n",
    "    return fahrenheit\n",
    "print('celsius to fahrenheit: ', celsius_to_fahrenheit(25)) # this converts 25 degree celsius to 77 degree fahrenheit"
   ]
  },
  {
   "cell_type": "code",
   "execution_count": 672,
   "metadata": {},
   "outputs": [],
   "source": [
    "def check_season(months):\n",
    "    months = 'January', 'February', 'March', 'April', 'May', 'June', 'July', 'August', 'September', 'October', 'November','December'\n",
    "    if months in ['December','January', 'February']:\n",
    "        return 'Winter'\n",
    "    elif months in ['March', 'April', 'May']:\n",
    "        return 'Spring'\n",
    "    elif months in ['June', 'July', 'August']: \n",
    "        return 'Summer'\n",
    "    elif months in ['September', 'October', 'November']:\n",
    "        return 'Autumn'\n",
    "    else:\n",
    "        return 'invalid month'"
   ]
  },
  {
   "cell_type": "code",
   "execution_count": 673,
   "metadata": {},
   "outputs": [
    {
     "name": "stdout",
     "output_type": "stream",
     "text": [
      "<function calculate_slope at 0x0000013964CD6940>\n"
     ]
    }
   ],
   "source": [
    "def calculate_slope(x1, y1, x2, y2):\n",
    "    change_in_y = y2 - y1\n",
    "    change_in_x = x2 - x1\n",
    "    slope = change_in_y / change_in_x\n",
    "    return slope\n",
    "print(calculate_slope)    "
   ]
  },
  {
   "cell_type": "code",
   "execution_count": 674,
   "metadata": {},
   "outputs": [
    {
     "name": "stdout",
     "output_type": "stream",
     "text": [
      "['apple', 'cat', 'mango', 'orange']\n",
      "['apple', 'cat', 'mango', 'orange']\n",
      "['apple', 'cat', 'mango', 'orange']\n",
      "['apple', 'cat', 'mango', 'orange']\n",
      "None\n"
     ]
    }
   ],
   "source": [
    "def print_list(list):\n",
    "    list = ['apple', 'cat', 'mango', 'orange']\n",
    "    for items in list:\n",
    "        print(list)\n",
    "print(print_list(list))"
   ]
  },
  {
   "cell_type": "code",
   "execution_count": 675,
   "metadata": {},
   "outputs": [],
   "source": [
    "def reverse_list(array):\n",
    "   reversed_array = []\n",
    "   for i in range(len(array) -1, -1, -1):\n",
    "       reversed_array.append(array[i])\n",
    "       return reversed_array\n",
    "   print(reverse_list([1, 2, 3, 4, 5]))\n",
    "   print (reverse_list(['A', 'B', 'C']))"
   ]
  },
  {
   "cell_type": "code",
   "execution_count": 676,
   "metadata": {},
   "outputs": [],
   "source": [
    "list = ['apple', 'cat', 'mango', 'orange']\n",
    "def capitalize_list_items(list):\n",
    "    capitalize_list = capitalize_list_items(list)\n",
    "    print(capitalize_list)"
   ]
  },
  {
   "cell_type": "code",
   "execution_count": 677,
   "metadata": {},
   "outputs": [],
   "source": [
    "def add_item(food_stuff):\n",
    "    food_stuff = ['Potato', 'Tomato', 'Mango', 'Milk']\n",
    "    for items in food_stuff:\n",
    "        food_stuff.append('Milk')\n",
    "        return food_stuff\n",
    "        print(add_item(food_stuff, 'Meat'))"
   ]
  },
  {
   "cell_type": "code",
   "execution_count": 678,
   "metadata": {},
   "outputs": [],
   "source": [
    "def remove_item(food_stuff):\n",
    "    food_stuff = ['Potato', 'Tomato', 'Mango', 'Milk']\n",
    "    for items in food_stuff:\n",
    "        food_stuff.remove('Mango')\n",
    "        return food_stuff\n",
    "        print(remove_item(food_stuff, 'Mango'))"
   ]
  },
  {
   "cell_type": "code",
   "execution_count": 679,
   "metadata": {},
   "outputs": [],
   "source": [
    "def sum_of_numbers():\n",
    "    for i in range(1, 100):\n",
    "        sum = i + 1\n",
    "        return sum\n",
    "    print('sum of numbers: ', sum_of_numbers(1, 100))"
   ]
  },
  {
   "cell_type": "code",
   "execution_count": 680,
   "metadata": {},
   "outputs": [
    {
     "name": "stdout",
     "output_type": "stream",
     "text": [
      "The sum of odd numbers:  1\n"
     ]
    }
   ],
   "source": [
    "def sum_of_odds(start, end):\n",
    "    sum = 0\n",
    "    for i in range(start, end+1):\n",
    "        if i % 2 != 0:\n",
    "            sum += i\n",
    "            return sum\n",
    "sum_of_odd_numbers = sum_of_odds(1, 10)\n",
    "print('The sum of odd numbers: ', sum_of_odd_numbers)"
   ]
  },
  {
   "cell_type": "code",
   "execution_count": 681,
   "metadata": {},
   "outputs": [
    {
     "name": "stdout",
     "output_type": "stream",
     "text": [
      "0\n",
      "The sum of even:  2\n"
     ]
    }
   ],
   "source": [
    "def sum_of_even(start, end):\n",
    "    sum = 0\n",
    "    for num in range(start, end+1):\n",
    "        if num % 2 == 0:\n",
    "            sum += num\n",
    "            return sum\n",
    "        print(sum)\n",
    "print('The sum of even: ', sum_of_even(1, 100))"
   ]
  },
  {
   "cell_type": "markdown",
   "metadata": {},
   "source": [
    "EXERCISE LEVEL 2"
   ]
  },
  {
   "cell_type": "code",
   "execution_count": 682,
   "metadata": {},
   "outputs": [],
   "source": [
    "def count_even_odd_numbers(n):\n",
    "    even_count = 0\n",
    "    odd_count = 0\n",
    "    for num in range(1, n+1):\n",
    "        if num % 2 == 0:\n",
    "            even_count += 1\n",
    "        else:\n",
    "            odd_count += 1\n",
    "    return even_count, odd_count\n",
    "    print('The number of even count: ', even_count(10))\n",
    "    print('The number of odd count: ', odd_count(10))"
   ]
  },
  {
   "cell_type": "code",
   "execution_count": 683,
   "metadata": {},
   "outputs": [
    {
     "name": "stdout",
     "output_type": "stream",
     "text": [
      "120\n"
     ]
    }
   ],
   "source": [
    "def factorial(n):\n",
    "    if n == 0:\n",
    "        return 1\n",
    "    else:\n",
    "        return n * factorial(n - 1)\n",
    "print(factorial(5))\n",
    "    "
   ]
  },
  {
   "cell_type": "code",
   "execution_count": 684,
   "metadata": {},
   "outputs": [],
   "source": [
    "def is_empty(parameter):\n",
    "    if not parameter:\n",
    "        return True\n",
    "    else:\n",
    "        return False"
   ]
  },
  {
   "cell_type": "code",
   "execution_count": 685,
   "metadata": {},
   "outputs": [],
   "source": [
    "import statistics\n",
    "\n",
    "list = [ 1, 2, 3, 4, 5]\n",
    "def calculate_mean(list):\n",
    "    return sum(list) / len(list)\n",
    "\n",
    "\n",
    "def calculate_median(list):\n",
    "    return statistics.median(list)\n",
    "\n",
    "\n",
    "def calculate_mode(list):\n",
    "    return statistics.mode(list)\n",
    "\n",
    "\n",
    "def calculate_range(list):\n",
    "    return max(list) - min(list)\n",
    "\n",
    "\n",
    "def calculate_variance(list):\n",
    "    return statistics.variance(list)\n",
    "\n",
    "def calculate_stdev(list):\n",
    "    return statistics.stdev(list)"
   ]
  },
  {
   "cell_type": "markdown",
   "metadata": {},
   "source": [
    "EXERCISE LEVEL 3"
   ]
  },
  {
   "cell_type": "code",
   "execution_count": 686,
   "metadata": {},
   "outputs": [
    {
     "name": "stdout",
     "output_type": "stream",
     "text": [
      "True\n",
      "False\n"
     ]
    }
   ],
   "source": [
    "def is_prime(number):\n",
    "    if number <= 1:\n",
    "        return False\n",
    "    for i in range(2, int(number ** 0.5) + 1):\n",
    "        if number % i == 0:\n",
    "            return False\n",
    "    return True\n",
    "print(is_prime(5))\n",
    "print(is_prime(16))"
   ]
  },
  {
   "cell_type": "code",
   "execution_count": 687,
   "metadata": {},
   "outputs": [
    {
     "name": "stdout",
     "output_type": "stream",
     "text": [
      "True\n"
     ]
    }
   ],
   "source": [
    "def are_unique(list):\n",
    "    if len(list) == len(set(list)):\n",
    "        return True\n",
    "    else:\n",
    "        return False\n",
    "    \n",
    "print(are_unique([1, 2, 3, 4, 5]))\n",
    "    \n"
   ]
  },
  {
   "cell_type": "code",
   "execution_count": 688,
   "metadata": {},
   "outputs": [],
   "source": [
    "def check_dtype(list):\n",
    "    dtypes = set()\n",
    "    for items in list:\n",
    "        dtypes.add(type(items))\n",
    "        return dtypes\n",
    "    print(dtypes([None, 6, 5.6 , 'Ada']))\n",
    "    "
   ]
  },
  {
   "cell_type": "code",
   "execution_count": 689,
   "metadata": {},
   "outputs": [],
   "source": [
    "def check_python_variable(variable):\n",
    "    return isinstance(variable, type)"
   ]
  }
 ],
 "metadata": {
  "kernelspec": {
   "display_name": "ArewaDSworkspace",
   "language": "python",
   "name": "python3"
  },
  "language_info": {
   "codemirror_mode": {
    "name": "ipython",
    "version": 3
   },
   "file_extension": ".py",
   "mimetype": "text/x-python",
   "name": "python",
   "nbconvert_exporter": "python",
   "pygments_lexer": "ipython3",
   "version": "3.8.18"
  }
 },
 "nbformat": 4,
 "nbformat_minor": 2
}
