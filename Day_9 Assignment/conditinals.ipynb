{
 "cells": [
  {
   "cell_type": "markdown",
   "metadata": {},
   "source": [
    "## EXERCISE DAY 9"
   ]
  },
  {
   "cell_type": "markdown",
   "metadata": {},
   "source": [
    "EXERCISE LEVEL 1"
   ]
  },
  {
   "cell_type": "code",
   "execution_count": 1,
   "metadata": {},
   "outputs": [
    {
     "name": "stdout",
     "output_type": "stream",
     "text": [
      "You are old enough to drive\n"
     ]
    }
   ],
   "source": [
    "age = 28\n",
    "if age >= 18:\n",
    "    print('You are old enough to drive')\n",
    "if age < 18:\n",
    "        print('Wait for few more years')"
   ]
  },
  {
   "cell_type": "code",
   "execution_count": 2,
   "metadata": {},
   "outputs": [],
   "source": [
    "my_age = input(28)\n",
    "your_age = input(30)\n",
    "if my_age > your_age:\n",
    "    print('I am older than you')\n",
    "else:\n",
    "    print('You are two years older')"
   ]
  },
  {
   "cell_type": "code",
   "execution_count": null,
   "metadata": {},
   "outputs": [],
   "source": [
    "a = 5\n",
    "b = 10\n",
    "if a > b:\n",
    "    print('a is greater than b')\n",
    "else:\n",
    "    print('a is less than b')"
   ]
  },
  {
   "cell_type": "markdown",
   "metadata": {},
   "source": [
    "Exercise Level 2"
   ]
  },
  {
   "cell_type": "code",
   "execution_count": null,
   "metadata": {},
   "outputs": [],
   "source": [
    "score = int(input('Enter the students score: '))\n",
    "if score >= 80 and score <= 100:\n",
    "    print('A')\n",
    "elif score >= 70 and score < 80:\n",
    "    print('B')\n",
    "elif score >= 60 and score < 70:\n",
    "    print('C')\n",
    "elif score >= 50 and score < 60:\n",
    "    print('D')\n",
    "else:\n",
    "    print('F')"
   ]
  },
  {
   "cell_type": "code",
   "execution_count": null,
   "metadata": {},
   "outputs": [],
   "source": [
    "seasons = 'Autumn', 'Winter', 'Spring', 'Summer'\n",
    "months = input('January', 'Februry', 'March', 'April', 'June', 'July', 'August', 'September', 'October', 'November', 'December')\n",
    "if months in ['September', 'October', 'November']:\n",
    "    print('The season is Autumn')\n",
    "elif months['January' or 'February']:\n",
    "    print('The season is Winter')\n",
    "elif months['March', 'April', 'May']:\n",
    "    print('The season is Spring')\n",
    "else:\n",
    "    print('The season is Summer')\n",
    "    "
   ]
  },
  {
   "cell_type": "code",
   "execution_count": null,
   "metadata": {},
   "outputs": [],
   "source": [
    "fruits = ['banana', 'orange', 'mango', 'lemon']\n",
    "fruit = 'pawpaw'\n",
    "if fruit in fruits:\n",
    "    fruit.append(fruit)\n",
    "    print(fruit)\n",
    "else:\n",
    "    print(fruit)"
   ]
  },
  {
   "cell_type": "code",
   "execution_count": null,
   "metadata": {},
   "outputs": [],
   "source": [
    "person = {'first_name' : 'Asabeneh', 'last_name' : 'Yetayeh', 'age' : 250, 'country' : 'Finland', 'is_married' : True, 'skills' : ['Javascript', 'React', 'Node', 'MongoDB', 'Python'], 'address' : {'street' :'space_street', 'zip_code' : '02210'}}\n",
    "if 'skills' in person:\n",
    "    skills = person['skills']\n",
    "    if len(skills) > 0:\n",
    "        middle_skill_index = len(skills) // 2 \n",
    "        middle_skill = skills[middle_skill_index]\n",
    "        print(middle_skill)\n",
    "     \n"
   ]
  },
  {
   "cell_type": "code",
   "execution_count": null,
   "metadata": {},
   "outputs": [],
   "source": [
    "if 'skills' in person and 'Python' in person['skills']:\n",
    "    print('Person has a Python skill')\n",
    "else:\n",
    "    print('Person doesnot have a python skill')"
   ]
  },
  {
   "cell_type": "code",
   "execution_count": null,
   "metadata": {},
   "outputs": [],
   "source": [
    "if 'skills' in person:\n",
    "    skills = person['skills']\n",
    "    if 'javascript' in skills and 'react' in skills:\n",
    "        print('He is a frontend developer')\n",
    "    elif 'Node' in skills and 'Python' in skills and 'MongoDB' in skills: \n",
    "        print('He is a backend developer')\n",
    "    elif 'React' in skills and 'Node' in skills and 'MongoDB' in skills:\n",
    "        print('He is a fullstack developer')\n",
    "    else:\n",
    "        print('Unknown title')"
   ]
  },
  {
   "cell_type": "code",
   "execution_count": null,
   "metadata": {},
   "outputs": [],
   "source": [
    "if person.get('is_married') and person.get('country') == 'Finland':\n",
    "    print(f\"{person['first_name']}, {person['last_name']} is married and lives in Finland\")"
   ]
  }
 ],
 "metadata": {
  "kernelspec": {
   "display_name": "ArewaDSworkspace",
   "language": "python",
   "name": "python3"
  },
  "language_info": {
   "codemirror_mode": {
    "name": "ipython",
    "version": 3
   },
   "file_extension": ".py",
   "mimetype": "text/x-python",
   "name": "python",
   "nbconvert_exporter": "python",
   "pygments_lexer": "ipython3",
   "version": "3.8.18"
  }
 },
 "nbformat": 4,
 "nbformat_minor": 2
}
