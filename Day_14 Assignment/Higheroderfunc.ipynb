{
 "cells": [
  {
   "cell_type": "markdown",
   "metadata": {},
   "source": [
    "## EXERCISE DAY 14"
   ]
  },
  {
   "cell_type": "markdown",
   "metadata": {},
   "source": [
    "EXERCISE LEVEL 1"
   ]
  },
  {
   "cell_type": "markdown",
   "metadata": {},
   "source": [
    "MAP FUNCTION: The map function applies a given function to each item in an iterable and returns a new iterable with the results. It takes two arguments: the function to apply and the iterable to process. The functiion is applied to each item in the iterable, and the results are collected into a new iterable.\n",
    "\n",
    "FILTER FUNCTION: The filter function applies a given function to each item in an iterable and returns a new iterable containing only the items for which the fuction returns True. It takes two arguments: the function to apply and the iterabe to process. The function is applied to each item in the iterable, and only the items that satisfy the condition are included in the new iterable.\n",
    "\n",
    "REDUCE FUNCTION: The reduce function applies a given function to the first two items in an iterable, then applies the same function to hte result and the next item, and so on, until all items have been processed. It returns a single value. The function should take two arguments and return a single value. "
   ]
  },
  {
   "cell_type": "markdown",
   "metadata": {},
   "source": [
    "A Higher Order Function is a funcition that either takes one or more functions as argurments or returns a function as its result.\n",
    "\n",
    "A Closure is a function that has access to baribles from its outer(enclosing) scope, even after the outer function has finished executing.\n",
    "\n",
    "A decorator is a design pattern in programming that allows you to add new functionality to an existing function or class without modifying its structure."
   ]
  },
  {
   "cell_type": "code",
   "execution_count": null,
   "metadata": {},
   "outputs": [],
   "source": [
    "countries = ['Afghanistan','Albania','Algeria','Andorra','Angola','Antigua and Barbuda','Argentina',\n",
    "  'Armenia', 'Australia','Austria', 'Azerbaijan', 'Bahamas', 'Bahrain', 'Bangladesh', 'Barbados',\n",
    "  'Belarus','Belgium','Belize','Benin','Bhutan','Bolivia','Bosnia and Herzegovina','Botswana',\n",
    "  'Brazil','Brunei','Bulgaria','Burkina Faso','Burundi','Cambodia','Cameroon','Canada','Cape Verde',\n",
    "  'Central African Republic','Chad','Chile','China','Colombi','Comoros','Congo (Brazzaville)','Congo',\n",
    "  'Costa Rica',\"Cote d'Ivoire\",'Croatia','Cuba','Cyprus','Czech Republic','Denmark','Djibouti',\n",
    "  'Dominica','Dominican Republic','East Timor (Timor Timur)','Ecuador', 'Egypt', 'El Salvador',\n",
    "  'Equatorial Guinea', 'Eritrea','Estonia','Ethiopia','Fiji','Finland','France','Gabon','Gambia, The',\n",
    "  'Georgia','Germany','Ghana','Greece','Grenada','Guatemala','Guinea','Guinea-Bissau','Guyana',\n",
    "  'Haiti','Honduras','Hungary','Iceland','India','Indonesia','Iran','Iraq','Ireland', 'Israel','Italy',\n",
    "  'Jamaica','Japan','Jordan','Kazakhstan','Kenya','Kiribati','Korea, North','Korea, South','Kuwait',\n",
    "  'Kyrgyzstan','Laos','Latvia','Lebanon','Lesotho','Liberia','Libya','Liechtenstein','Lithuania',\n",
    "  'Luxembourg','Macedonia','Madagascar','Malawi','Malaysia','Maldives','Mali','Malta','Marshall Islands',\n",
    "  'Mauritania','Mauritius','Mexico','Micronesia','Moldova','Monaco','Mongolia','Morocco','Mozambique',\n",
    "  'Myanmar','Namibia','Nauru','Nepal''Netherlands','New Zealand','Nicaragua','Niger','Nigeria','Norway',\n",
    "  'Oman','Pakistan','Palau','Panama','Papua New Guinea','Paraguay','Peru','Philippines','Poland','Portugal',\n",
    "  'Qatar','Romania','Russia','Rwanda','Saint Kitts and Nevis','Saint Lucia','Saint Vincent','Samoa',\n",
    "  'San Marino','Sao Tome and Principe','Saudi Arabia','Senegal','Serbia and Montenegro','Seychelles',\n",
    "  'Sierra Leone','Singapore','Slovakia','Slovenia','Solomon Islands','Somalia','South Africa','Spain',\n",
    "  'Sri Lanka', 'Sudan', 'Suriname', 'Swaziland', 'Sweden', 'Switzerland', 'Syria', 'Taiwan', 'Tajikistan',\n",
    "  'Tanzania','Thailand','Togo','Tonga','Trinidad and Tobago','Tunisia','Turkey','Turkmenistan','Tuvalu',\n",
    "  'Uganda','Ukraine','United Arab Emirates','United Kingdom','United States','Uruguay','Uzbekistan',\n",
    "  'Vanuatu', 'Vatican City', 'Venezuela', 'Vietnam', 'Yemen', 'Zambia', 'Zimbabwe']"
   ]
  },
  {
   "cell_type": "code",
   "execution_count": null,
   "metadata": {},
   "outputs": [],
   "source": [
    "numbers = [1, 2, 3, 4, 5]\n",
    "squared_numbers = map(lambda x: x **2, numbers)\n",
    "print(list(squared_numbers))\n",
    "\n",
    "\n",
    "even_numbers = filter(lambda x: x % 2 == 0, numbers)\n",
    "print(list(even_numbers))\n",
    "\n",
    "from functools import reduce\n",
    "sum_of_numbers = reduce(lambda x, y: x + y, numbers)\n",
    "print(sum_of_numbers)"
   ]
  },
  {
   "cell_type": "code",
   "execution_count": null,
   "metadata": {},
   "outputs": [],
   "source": [
    "for country in countries:\n",
    "    print(country)"
   ]
  },
  {
   "cell_type": "code",
   "execution_count": null,
   "metadata": {},
   "outputs": [],
   "source": [
    "names = ['Asabeneh', 'Lidiya', 'Ermias', 'Abraham']\n",
    "\n",
    "for name in names:\n",
    "    print(name)"
   ]
  },
  {
   "cell_type": "code",
   "execution_count": null,
   "metadata": {},
   "outputs": [],
   "source": [
    "numbers = [1, 2, 3, 4, 5, 6, 7, 8, 9, 10]\n",
    "\n",
    "for num in numbers:\n",
    "    print(num)"
   ]
  },
  {
   "cell_type": "markdown",
   "metadata": {},
   "source": [
    "EXERCISE LEVEL 2"
   ]
  },
  {
   "cell_type": "code",
   "execution_count": null,
   "metadata": {},
   "outputs": [],
   "source": [
    "countries_upper_cased = map(lambda country: country.upper(), countries)\n",
    "print(list(countries_upper_cased))"
   ]
  },
  {
   "cell_type": "code",
   "execution_count": null,
   "metadata": {},
   "outputs": [],
   "source": [
    "numbers = [1, 2, 3, 4, 5, 6, 7, 8, 9, 10]\n",
    "new_list = map(lambda x: x **2, numbers)\n",
    "print(list(new_list))"
   ]
  },
  {
   "cell_type": "code",
   "execution_count": null,
   "metadata": {},
   "outputs": [],
   "source": [
    "names = ['Asabeneh', 'Lidiya', 'Ermias', 'Abraham']\n",
    "def change_to_upper(name):\n",
    "    return name.upper()\n",
    "names_uppercase = map(change_to_upper, names)\n",
    "print(list(names_uppercase))"
   ]
  },
  {
   "cell_type": "code",
   "execution_count": null,
   "metadata": {},
   "outputs": [],
   "source": [
    "def countries_with_land(country):\n",
    "    if country == 'land':\n",
    "        return True\n",
    "    return False\n",
    "countries_land = filter(countries_with_land, countries)\n",
    "print(list(countries_land))"
   ]
  },
  {
   "cell_type": "code",
   "execution_count": null,
   "metadata": {},
   "outputs": [],
   "source": [
    "countries_with_six_letters =list(filter(lambda country: len(country) == 6, countries))\n",
    "print(countries_with_six_letters, countries)"
   ]
  },
  {
   "cell_type": "code",
   "execution_count": null,
   "metadata": {},
   "outputs": [],
   "source": [
    "countries_with_six_letters_and_more = filter(lambda country: country >= 6, countries)\n",
    "print(countries_with_six_letters_and_more, countries)"
   ]
  },
  {
   "cell_type": "code",
   "execution_count": null,
   "metadata": {},
   "outputs": [],
   "source": [
    "countries_starting_with_E =list(filter(lambda country: country.startswith('E'), countries))\n",
    "print(countries_starting_with_E, countries)"
   ]
  },
  {
   "cell_type": "code",
   "execution_count": null,
   "metadata": {},
   "outputs": [],
   "source": [
    "list = ['Orange', 'Cashew', 'Pawpaw', 'Lemon']\n",
    "def get_string_lists(list):\n",
    "    return list\n",
    "    "
   ]
  },
  {
   "cell_type": "code",
   "execution_count": null,
   "metadata": {},
   "outputs": [],
   "source": [
    "numbers = [1, 2, 3, 4, 5, 6, 7, 8, 9, 10]\n",
    "sum_of_numbers = reduce(lambda x, y: x + y, numbers)\n",
    "print(sum_of_numbers)"
   ]
  },
  {
   "cell_type": "code",
   "execution_count": null,
   "metadata": {},
   "outputs": [],
   "source": [
    "def categorize_countries():\n",
    "    countries= []\n",
    "    filtered_countries = list(filter(lambda country: 'land' in country or 'ia' in country or 'stan' in country, countries))\n",
    "    return filtered_countries\n",
    "print(categorize_countries)"
   ]
  },
  {
   "cell_type": "code",
   "execution_count": null,
   "metadata": {},
   "outputs": [],
   "source": [
    "def get_first_ten_countries():\n",
    "    countries = ['country1','country2', 'country3', 'country4', 'country5', 'country6', 'country7', 'country8', 'country9', 'country10']\n",
    "    return countries"
   ]
  },
  {
   "cell_type": "code",
   "execution_count": null,
   "metadata": {},
   "outputs": [],
   "source": [
    "def get_last_ten_countries():\n",
    "    countries = ['country-1', 'country-2', 'country-3', 'country-4','country-5', 'country-6', 'country-7','country-8', 'country-9','country-10']\n",
    "    return countries"
   ]
  }
 ],
 "metadata": {
  "kernelspec": {
   "display_name": "ArewaDSworkspace",
   "language": "python",
   "name": "python3"
  },
  "language_info": {
   "codemirror_mode": {
    "name": "ipython",
    "version": 3
   },
   "file_extension": ".py",
   "mimetype": "text/x-python",
   "name": "python",
   "nbconvert_exporter": "python",
   "pygments_lexer": "ipython3",
   "version": "3.8.18"
  }
 },
 "nbformat": 4,
 "nbformat_minor": 2
}
