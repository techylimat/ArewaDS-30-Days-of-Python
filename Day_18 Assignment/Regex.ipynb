{
 "cells": [
  {
   "cell_type": "markdown",
   "metadata": {},
   "source": [
    "## EXERCISE DAY 18"
   ]
  },
  {
   "cell_type": "code",
   "execution_count": 78,
   "metadata": {},
   "outputs": [
    {
     "name": "stdout",
     "output_type": "stream",
     "text": [
      "[('love', 6), ('you', 5), ('can', 3), ('I', 2), ('teaching', 2), ('do', 2), ('not', 2), ('what', 2), ('else', 2), ('If', 1), ('Python', 1), ('if', 1), ('something', 1), ('which', 1), ('give', 1), ('all', 1), ('the', 1), ('capabilities', 1), ('to', 1), ('develop', 1), ('an', 1), ('application', 1)]\n"
     ]
    }
   ],
   "source": [
    "import re\n",
    "from collections import Counter\n",
    "Paragraph = 'I love teaching. If you do not love teaching what else can you love. I love Python if you do not love something which can give you all the capabilities to develop an application what else can you love'\n",
    "regex_pattern = r'\\b\\w+\\b'\n",
    "matches = re.findall(regex_pattern, Paragraph)\n",
    "word_counts = Counter(matches)\n",
    "most_frequent = word_counts.most_common()\n",
    "print(most_frequent)"
   ]
  },
  {
   "cell_type": "code",
   "execution_count": 79,
   "metadata": {},
   "outputs": [
    {
     "name": "stdout",
     "output_type": "stream",
     "text": [
      "points = [-12, -4, -3, -1, 0, 4, 8]\n",
      "sorted_points = [-12, -4, -3, -1, 0, 4, 8]\n",
      "distance = 20\n"
     ]
    }
   ],
   "source": [
    "txt = 'The position of some particles on the horizontal x-axis are -12, -4, -3 and -1 in the negative direction, 0 at origin, 4 and 8 in the positive direction'\n",
    "regex_pattern = r'-?\\d+'\n",
    "matches = re.findall(regex_pattern, txt)\n",
    "\n",
    "\n",
    "points = [int(num) for num in matches]\n",
    "sorted_points = sorted(points)\n",
    "\n",
    "distance = sorted_points[-1] - sorted_points[0]\n",
    "print('points =', points)\n",
    "print('sorted_points =', sorted_points)\n",
    "print('distance =', distance )"
   ]
  },
  {
   "cell_type": "markdown",
   "metadata": {},
   "source": [
    "EXERCISE LEVEL 2"
   ]
  },
  {
   "cell_type": "code",
   "execution_count": 80,
   "metadata": {},
   "outputs": [
    {
     "name": "stdout",
     "output_type": "stream",
     "text": [
      "True\n",
      "False\n",
      "False\n",
      "True\n"
     ]
    }
   ],
   "source": [
    "def is_valid_variable(variable):\n",
    "    regex_pattern = r'^[a-zA-Z_][a-zA-Z0-9_]*$'\n",
    "    return re.match(regex_pattern, variable) is not None\n",
    "print(is_valid_variable('first_name'))\n",
    "print(is_valid_variable('first-name'))\n",
    "print(is_valid_variable('1first-name'))\n",
    "print(is_valid_variable('firstname'))\n"
   ]
  },
  {
   "cell_type": "markdown",
   "metadata": {},
   "source": [
    "EXERCISE LEVEL 3"
   ]
  },
  {
   "cell_type": "code",
   "execution_count": 81,
   "metadata": {},
   "outputs": [
    {
     "name": "stdout",
     "output_type": "stream",
     "text": [
      "I am a teacher and I love teaching There is nothing as more rewarding as educating and empowering people I found teaching more interesting than any other jobs Does this motivate you to be a teacher\n",
      "[('I', 3), ('a', 2), ('teacher', 2)]\n"
     ]
    }
   ],
   "source": [
    "sentence = '''%I $am@% a %tea@cher%, &and& I lo%#ve %tea@ching%;. There $is nothing; &as& mo@re rewarding as educa@ting &and& @emp%o@wering peo@ple. ;I found tea@ching m%o@re interesting tha@n any other %jo@bs. %Do@es thi%s mo@tivate yo@u to be a tea@cher!?'''\n",
    "\n",
    "clean_sentence = re.sub(r'[^a-zA-Z\\s]', '', sentence)\n",
    "print(clean_sentence)\n",
    "\n",
    "regex_pattern = r'\\b\\w+\\b'\n",
    "matches = re.findall(regex_pattern, clean_sentence)\n",
    "word_counts = Counter(matches)\n",
    "most_frequent = word_counts.most_common(3)\n",
    "print(most_frequent)"
   ]
  }
 ],
 "metadata": {
  "kernelspec": {
   "display_name": "ArewaDSworkspace",
   "language": "python",
   "name": "python3"
  },
  "language_info": {
   "codemirror_mode": {
    "name": "ipython",
    "version": 3
   },
   "file_extension": ".py",
   "mimetype": "text/x-python",
   "name": "python",
   "nbconvert_exporter": "python",
   "pygments_lexer": "ipython3",
   "version": "3.8.18"
  }
 },
 "nbformat": 4,
 "nbformat_minor": 2
}
