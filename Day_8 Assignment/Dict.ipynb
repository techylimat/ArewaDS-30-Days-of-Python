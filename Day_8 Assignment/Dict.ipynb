{
 "cells": [
  {
   "cell_type": "markdown",
   "metadata": {},
   "source": [
    "## EXERCISE DAY 8"
   ]
  },
  {
   "cell_type": "code",
   "execution_count": 31,
   "metadata": {},
   "outputs": [],
   "source": [
    "Dog = {}     # empty dictionary"
   ]
  },
  {
   "cell_type": "code",
   "execution_count": 32,
   "metadata": {},
   "outputs": [
    {
     "name": "stdout",
     "output_type": "stream",
     "text": [
      "{'name': 'jack', 'color': 'black', 'breed': 'labrador', 'legs': 4, 'age': 2}\n"
     ]
    }
   ],
   "source": [
    "Dog = {'name' : 'jack', 'color' : 'black', 'breed' : 'labrador', 'legs' : 4, 'age' : 2}\n",
    "print(Dog)"
   ]
  },
  {
   "cell_type": "code",
   "execution_count": 33,
   "metadata": {},
   "outputs": [
    {
     "name": "stdout",
     "output_type": "stream",
     "text": [
      "{'first_name': 'Halimat', 'last_name': 'Muhammadurabiu', 'gender': 'female', 'age': 28, 'marital_status': 'married', 'skills': ['Excel', 'MySQL', 'PowerBI', 'Python'], 'country': 'Nigeria', 'city': 'FCT', 'Address': 'Dei-Dei'}\n"
     ]
    }
   ],
   "source": [
    "student_dict = { 'first_name' : 'Halimat', 'last_name' : 'Muhammadurabiu', 'gender' : 'female', 'age' : 28, 'marital_status' : 'married', 'skills' : ['Excel', 'MySQL', 'PowerBI', 'Python'], 'country' : 'Nigeria', 'city' : 'FCT', 'Address' : 'Dei-Dei'}\n",
    "print(student_dict)"
   ]
  },
  {
   "cell_type": "code",
   "execution_count": 34,
   "metadata": {},
   "outputs": [
    {
     "name": "stdout",
     "output_type": "stream",
     "text": [
      "The lenght of student_dict is:  9\n"
     ]
    }
   ],
   "source": [
    "lenght = len(student_dict)\n",
    "print('The lenght of student_dict is: ', lenght)"
   ]
  },
  {
   "cell_type": "code",
   "execution_count": 35,
   "metadata": {},
   "outputs": [
    {
     "name": "stdout",
     "output_type": "stream",
     "text": [
      "<class 'list'>\n"
     ]
    }
   ],
   "source": [
    "print(type(student_dict['skills']))   # The type of skills"
   ]
  },
  {
   "cell_type": "code",
   "execution_count": 36,
   "metadata": {},
   "outputs": [],
   "source": [
    "student_dict['skills'].append(['HTML', 'Java'])  # adding more skills"
   ]
  },
  {
   "cell_type": "code",
   "execution_count": 37,
   "metadata": {},
   "outputs": [
    {
     "name": "stdout",
     "output_type": "stream",
     "text": [
      "<built-in method keys of dict object at 0x0000023B67F4CD00>\n"
     ]
    }
   ],
   "source": [
    "keys = student_dict.keys    # getting the student's dictionary keys\n",
    "print(keys)"
   ]
  },
  {
   "cell_type": "code",
   "execution_count": 38,
   "metadata": {},
   "outputs": [
    {
     "name": "stdout",
     "output_type": "stream",
     "text": [
      "dict_values(['Halimat', 'Muhammadurabiu', 'female', 28, 'married', ['Excel', 'MySQL', 'PowerBI', 'Python', ['HTML', 'Java']], 'Nigeria', 'FCT', 'Dei-Dei'])\n"
     ]
    }
   ],
   "source": [
    "values =  student_dict.values()  # getting the student's dictionary values\n",
    "print(values)"
   ]
  },
  {
   "cell_type": "code",
   "execution_count": 39,
   "metadata": {},
   "outputs": [
    {
     "name": "stdout",
     "output_type": "stream",
     "text": [
      "dict_items([('first_name', 'Halimat'), ('last_name', 'Muhammadurabiu'), ('gender', 'female'), ('age', 28), ('marital_status', 'married'), ('skills', ['Excel', 'MySQL', 'PowerBI', 'Python', ['HTML', 'Java']]), ('country', 'Nigeria'), ('city', 'FCT'), ('Address', 'Dei-Dei')])\n"
     ]
    }
   ],
   "source": [
    "print(student_dict.items()) # changing dictionary to a list of tuple"
   ]
  },
  {
   "cell_type": "code",
   "execution_count": 40,
   "metadata": {},
   "outputs": [
    {
     "name": "stdout",
     "output_type": "stream",
     "text": [
      "{'first_name': 'Halimat', 'last_name': 'Muhammadurabiu', 'gender': 'female', 'age': 28, 'skills': ['Excel', 'MySQL', 'PowerBI', 'Python', ['HTML', 'Java']], 'country': 'Nigeria', 'city': 'FCT', 'Address': 'Dei-Dei'}\n"
     ]
    }
   ],
   "source": [
    "del student_dict['marital_status'] # deleting an item from the student's dictionary\n",
    "print(student_dict)"
   ]
  },
  {
   "cell_type": "code",
   "execution_count": 41,
   "metadata": {},
   "outputs": [],
   "source": [
    "del student_dict       # deleting of student's dictionary"
   ]
  }
 ],
 "metadata": {
  "kernelspec": {
   "display_name": "ArewaDSworkspace",
   "language": "python",
   "name": "python3"
  },
  "language_info": {
   "codemirror_mode": {
    "name": "ipython",
    "version": 3
   },
   "file_extension": ".py",
   "mimetype": "text/x-python",
   "name": "python",
   "nbconvert_exporter": "python",
   "pygments_lexer": "ipython3",
   "version": "3.8.18"
  }
 },
 "nbformat": 4,
 "nbformat_minor": 2
}
